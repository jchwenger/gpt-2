{
 "cells": [
  {
   "cell_type": "markdown",
   "metadata": {},
   "source": [
    "# GPT-2 \n",
    "---"
   ]
  },
  {
   "cell_type": "code",
   "execution_count": 1,
   "metadata": {},
   "outputs": [],
   "source": [
    "import tensorflow as tf"
   ]
  },
  {
   "cell_type": "code",
   "execution_count": 2,
   "metadata": {},
   "outputs": [],
   "source": [
    "tf.enable_eager_execution()"
   ]
  },
  {
   "cell_type": "code",
   "execution_count": 3,
   "metadata": {},
   "outputs": [],
   "source": [
    "def nprint(*args):\n",
    "    print(*args, end='\\n\\n-----------------\\n')"
   ]
  },
  {
   "cell_type": "markdown",
   "metadata": {},
   "source": [
    "---\n",
    "# Expand tile\n",
    "\n",
    "Let's look at the example from GPT-2."
   ]
  },
  {
   "cell_type": "code",
   "execution_count": 60,
   "metadata": {},
   "outputs": [
    {
     "name": "stdout",
     "output_type": "stream",
     "text": [
      "[[ 1.0839658   0.36698222  0.13701785]\n",
      " [-0.8101032   0.7864109  -1.0563312 ]]\n"
     ]
    }
   ],
   "source": [
    "# tl = tf.get_variable('tl', [2])\n",
    "tl = tf.get_variable('tl', [2,3])\n",
    "print(tl.numpy())"
   ]
  },
  {
   "cell_type": "code",
   "execution_count": 61,
   "metadata": {},
   "outputs": [
    {
     "name": "stdout",
     "output_type": "stream",
     "text": [
      "2\n",
      "[3, 1, 1]\n"
     ]
    }
   ],
   "source": [
    "size = 3\n",
    "ndims = tl.shape.ndims\n",
    "print(ndims)\n",
    "print([size] + [1]*ndims)"
   ]
  },
  {
   "cell_type": "markdown",
   "metadata": {},
   "source": [
    "Why do you need that `expand_dims` thingy? In order to stack your 2d vector into a 3d one. To keep it 2d and shove the copies/tiles inside, do this:"
   ]
  },
  {
   "cell_type": "code",
   "execution_count": 63,
   "metadata": {},
   "outputs": [
    {
     "name": "stdout",
     "output_type": "stream",
     "text": [
      "[[ 1.0839658   0.36698222  0.13701785]\n",
      " [-0.8101032   0.7864109  -1.0563312 ]\n",
      " [ 1.0839658   0.36698222  0.13701785]\n",
      " [-0.8101032   0.7864109  -1.0563312 ]\n",
      " [ 1.0839658   0.36698222  0.13701785]\n",
      " [-0.8101032   0.7864109  -1.0563312 ]]\n"
     ]
    }
   ],
   "source": [
    "print(tf.tile(tl, [size] + [1]*(ndims-1)).numpy())"
   ]
  },
  {
   "cell_type": "code",
   "execution_count": 64,
   "metadata": {},
   "outputs": [
    {
     "name": "stdout",
     "output_type": "stream",
     "text": [
      "(3, 2, 3)\n",
      "[[[ 1.0839658   0.36698222  0.13701785]\n",
      "  [-0.8101032   0.7864109  -1.0563312 ]]\n",
      "\n",
      " [[ 1.0839658   0.36698222  0.13701785]\n",
      "  [-0.8101032   0.7864109  -1.0563312 ]]\n",
      "\n",
      " [[ 1.0839658   0.36698222  0.13701785]\n",
      "  [-0.8101032   0.7864109  -1.0563312 ]]]\n"
     ]
    }
   ],
   "source": [
    "print(tf.tile(tf.expand_dims(tl, axis=0), [size] + [1]*ndims).shape)\n",
    "print(tf.tile(tf.expand_dims(tl, axis=0), [size] + [1]*ndims).numpy())"
   ]
  },
  {
   "cell_type": "markdown",
   "metadata": {},
   "source": [
    "---\n",
    "\n",
    "The actual function:"
   ]
  },
  {
   "cell_type": "code",
   "execution_count": 79,
   "metadata": {},
   "outputs": [],
   "source": [
    "def expand_tile(value, size):\n",
    "    \"\"\"Add a new axis of given size.\"\"\"\n",
    "    value = tf.convert_to_tensor(value, name='value')\n",
    "    ndims = value.shape.ndims\n",
    "    return tf.tile(tf.expand_dims(value, axis=0), [size] + [1]*ndims)"
   ]
  },
  {
   "cell_type": "code",
   "execution_count": 84,
   "metadata": {},
   "outputs": [
    {
     "name": "stdout",
     "output_type": "stream",
     "text": [
      "[[1 2 3]\n",
      " [4 5 6]]\n",
      "\n",
      "------------------------------\n",
      "[[[1 2 3]\n",
      "  [4 5 6]]\n",
      "\n",
      " [[1 2 3]\n",
      "  [4 5 6]]]\n",
      "\n",
      "------------------------------\n",
      "[[[1 2 3]\n",
      "  [4 5 6]]\n",
      "\n",
      " [[1 2 3]\n",
      "  [4 5 6]]\n",
      "\n",
      " [[1 2 3]\n",
      "  [4 5 6]]\n",
      "\n",
      " [[1 2 3]\n",
      "  [4 5 6]]]\n",
      "\n"
     ]
    }
   ],
   "source": [
    "expt = tf.constant([[1,2,3],[4,5,6]])\n",
    "nprint(expt.numpy())\n",
    "print('-'*30)\n",
    "nprint(expand_tile(expt, 2).numpy())\n",
    "print('-'*30)\n",
    "nprint(expand_tile(expt, 4).numpy())"
   ]
  },
  {
   "cell_type": "markdown",
   "metadata": {},
   "source": [
    "---\n",
    "# Positions_for"
   ]
  },
  {
   "cell_type": "markdown",
   "metadata": {},
   "source": [
    "`Size` is the batch size > will produce as many tilings (copies) of the vector as there are batches. E.g. `[1,2,3]` with three batches: `[[1,2,3],[1,2,3],[1,2,3]]`."
   ]
  },
  {
   "cell_type": "code",
   "execution_count": 5,
   "metadata": {},
   "outputs": [],
   "source": [
    "def expand_tile(value, size):\n",
    "    \"\"\"\n",
    "    Tile (duplicate) tensor size times: from [x,y] to [[x,y],[x,y] .. size times .. [x,y]]\n",
    "    Constructed so as to be able to take lists, tuples, etc. as input.\n",
    "    \"\"\"\n",
    "    value = tf.convert_to_tensor(value, name='value')\n",
    "    ndims = value.shape.ndims\n",
    "\n",
    "    # expand [x,y] to [[x,y]], then tile [size] times according to the outer dim\n",
    "    # ([size] + [1]*ndims turning into e.g. [3,1,1])\n",
    "    return tf.tile(tf.expand_dims(value, axis=0), [size] + [1]*ndims)"
   ]
  },
  {
   "cell_type": "code",
   "execution_count": 57,
   "metadata": {},
   "outputs": [
    {
     "name": "stdout",
     "output_type": "stream",
     "text": [
      "[]\n",
      "[[0 1]]\n",
      "[[0 1]\n",
      " [0 1]]\n"
     ]
    }
   ],
   "source": [
    "print(expand_tile([0,1], 0).numpy())\n",
    "print(expand_tile([0,1], 1).numpy())\n",
    "print(expand_tile([0,1], 2).numpy())"
   ]
  },
  {
   "cell_type": "code",
   "execution_count": 99,
   "metadata": {},
   "outputs": [],
   "source": [
    "def positions_for(tokens, past_length):\n",
    "    batch_size = tf.shape(tokens)[0]\n",
    "    nsteps = tf.shape(tokens)[1]\n",
    "    \n",
    "    print('batch_size:', batch_size.numpy(), \n",
    "          '| nsteps:', nsteps.numpy(), \n",
    "          '| tf.range(nsteps):', tf.range(nsteps).numpy(), \n",
    "          '| past length:', past_length if type(past_length) == int else past_length.numpy(),\n",
    "          '\\n\\npast length + range:\\n', (past_length + tf.range(nsteps)).numpy(),\n",
    "          '\\n\\nresult vector:')\n",
    "    \n",
    "    return expand_tile(past_length + tf.range(nsteps), batch_size)"
   ]
  },
  {
   "cell_type": "code",
   "execution_count": 116,
   "metadata": {},
   "outputs": [
    {
     "name": "stdout",
     "output_type": "stream",
     "text": [
      "[[[-8 -1  0]\n",
      "  [ 7  1 -6]]\n",
      "\n",
      " [[ 2 -1 -2]\n",
      "  [ 8  2  8]]\n",
      "\n",
      " [[ 9  6  3]\n",
      "  [-7  0  4]]\n",
      "\n",
      " [[ 5  2  4]\n",
      "  [-9  7 -3]]\n",
      "\n",
      " [[-1 -2  6]\n",
      "  [-3 -8 -6]]]\n",
      "(5, 2, 3)\n"
     ]
    }
   ],
   "source": [
    "tkns = tf.cast(20*tf.get_variable('tkns', [5,2,3]),\n",
    "               tf.int32)\n",
    "print(tkns.numpy())\n",
    "print(tkns.shape)"
   ]
  },
  {
   "cell_type": "code",
   "execution_count": 122,
   "metadata": {},
   "outputs": [
    {
     "name": "stdout",
     "output_type": "stream",
     "text": [
      "[[-8 -1  0]\n",
      " [ 2 -1 -2]\n",
      " [ 9  6  3]\n",
      " [ 5  2  4]\n",
      " [-1 -2  6]]\n",
      "\n",
      "-----------------\n",
      "[[ 7  1 -6]\n",
      " [ 8  2  8]\n",
      " [-7  0  4]\n",
      " [-9  7 -3]\n",
      " [-3 -8 -6]]\n",
      "\n",
      "-----------------\n"
     ]
    },
    {
     "data": {
      "text/plain": [
       "[None, None]"
      ]
     },
     "execution_count": 122,
     "metadata": {},
     "output_type": "execute_result"
    }
   ],
   "source": [
    "[nprint(unst.numpy()) for unst in tf.unstack(tkns, axis=1)]"
   ]
  },
  {
   "cell_type": "markdown",
   "metadata": {},
   "source": [
    "Here using `tf.shape(tkns)` as it is in the model, to show the results:  \n",
    "```\n",
    "past_length = 0 if past is None else tf.shape(past)[-2]\n",
    "```\n",
    "The value of `past_length` gets broadcast into the range."
   ]
  },
  {
   "cell_type": "code",
   "execution_count": 102,
   "metadata": {},
   "outputs": [
    {
     "name": "stdout",
     "output_type": "stream",
     "text": [
      "batch_size: 3 | nsteps: 5 | tf.range(nsteps): [0 1 2 3 4] | past length: 0 \n",
      "\n",
      "past length + range:\n",
      " [0 1 2 3 4] \n",
      "\n",
      "result vector:\n",
      "[[0 1 2 3 4]\n",
      " [0 1 2 3 4]\n",
      " [0 1 2 3 4]]\n",
      "\n",
      "-----------------\n",
      "batch_size: 3 | nsteps: 5 | tf.range(nsteps): [0 1 2 3 4] | past length: 3 \n",
      "\n",
      "past length + range:\n",
      " [3 4 5 6 7] \n",
      "\n",
      "result vector:\n",
      "[[3 4 5 6 7]\n",
      " [3 4 5 6 7]\n",
      " [3 4 5 6 7]]\n",
      "\n",
      "-----------------\n",
      "batch_size: 3 | nsteps: 5 | tf.range(nsteps): [0 1 2 3 4] | past length: 5 \n",
      "\n",
      "past length + range:\n",
      " [5 6 7 8 9] \n",
      "\n",
      "result vector:\n",
      "[[5 6 7 8 9]\n",
      " [5 6 7 8 9]\n",
      " [5 6 7 8 9]]\n",
      "\n",
      "-----------------\n",
      "batch_size: 3 | nsteps: 5 | tf.range(nsteps): [0 1 2 3 4] | past length: 1 \n",
      "\n",
      "past length + range:\n",
      " [1 2 3 4 5] \n",
      "\n",
      "result vector:\n",
      "[[1 2 3 4 5]\n",
      " [1 2 3 4 5]\n",
      " [1 2 3 4 5]]\n",
      "\n",
      "-----------------\n"
     ]
    }
   ],
   "source": [
    "nprint(positions_for(tkns, 0).numpy())\n",
    "nprint(positions_for(tkns, tf.shape(tkns)[0]).numpy())\n",
    "nprint(positions_for(tkns, tf.shape(tkns)[1]).numpy())\n",
    "nprint(positions_for(tkns, tf.shape(tkns)[2]).numpy())"
   ]
  }
 ],
 "metadata": {
  "kernelspec": {
   "display_name": "Python 3",
   "language": "python",
   "name": "python3"
  },
  "language_info": {
   "codemirror_mode": {
    "name": "ipython",
    "version": 3
   },
   "file_extension": ".py",
   "mimetype": "text/x-python",
   "name": "python",
   "nbconvert_exporter": "python",
   "pygments_lexer": "ipython3",
   "version": "3.7.3"
  }
 },
 "nbformat": 4,
 "nbformat_minor": 4
}
