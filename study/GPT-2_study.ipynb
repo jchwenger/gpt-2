{
 "cells": [
  {
   "cell_type": "markdown",
   "metadata": {},
   "source": [
    "# GPT-2 \n",
    "---\n",
    "## Study notebook"
   ]
  },
  {
   "cell_type": "code",
   "execution_count": 2,
   "metadata": {},
   "outputs": [],
   "source": [
    "import tensorflow as tf"
   ]
  },
  {
   "cell_type": "code",
   "execution_count": 3,
   "metadata": {},
   "outputs": [],
   "source": [
    "tf.enable_eager_execution()"
   ]
  },
  {
   "cell_type": "markdown",
   "metadata": {},
   "source": [
    "---"
   ]
  },
  {
   "cell_type": "code",
   "execution_count": 79,
   "metadata": {},
   "outputs": [],
   "source": [
    "def shape_list(x):\n",
    "    \"\"\"Deal with dynamic shape in tensorflow cleanly.\"\"\"\n",
    "    static = x.shape.as_list()\n",
    "    dynamic = tf.shape(x)\n",
    "    return [dynamic[i] if s is None else s for i, s in enumerate(static)]"
   ]
  },
  {
   "cell_type": "code",
   "execution_count": 77,
   "metadata": {},
   "outputs": [],
   "source": [
    "def shape_list_comm(x):\n",
    "    \"\"\"Deal with dynamic shape in tensorflow cleanly.\"\"\"\n",
    "    static = x.shape.as_list()\n",
    "    print('static:', static)\n",
    "    dynamic = tf.shape(x)\n",
    "    print('dynamic:', dynamic)\n",
    "    for i, s in enumerate(static):\n",
    "        print(s)\n",
    "        print(dynamic[i])\n",
    "    return [dynamic[i] if s is None else s for i, s in enumerate(static)]"
   ]
  },
  {
   "cell_type": "code",
   "execution_count": 119,
   "metadata": {},
   "outputs": [
    {
     "name": "stdout",
     "output_type": "stream",
     "text": [
      "tf.Tensor(\n",
      "[[[-10 -21]\n",
      "  [-14   9]\n",
      "  [  1  -8]]\n",
      "\n",
      " [[-26   8]\n",
      "  [  7 -14]\n",
      "  [-33 -21]]\n",
      "\n",
      " [[ 25  14]\n",
      "  [ -5  -8]\n",
      "  [ 48  15]]\n",
      "\n",
      " [[ 13  18]\n",
      "  [-36   8]\n",
      "  [-45   5]]], shape=(4, 3, 2), dtype=int16)\n"
     ]
    }
   ],
   "source": [
    "t1 = tf.random.normal([4, 3,2], \n",
    "                      mean=0.0, \n",
    "                      stddev=20,\n",
    "                      dtype=tf.float32)\n",
    "print(tf.cast(t1, tf.int16)) # casting to int for readability"
   ]
  },
  {
   "cell_type": "code",
   "execution_count": 78,
   "metadata": {},
   "outputs": [
    {
     "name": "stdout",
     "output_type": "stream",
     "text": [
      "static: [4, 3, 2]\n",
      "dynamic: tf.Tensor([4 3 2], shape=(3,), dtype=int32)\n",
      "4\n",
      "tf.Tensor(4, shape=(), dtype=int32)\n",
      "3\n",
      "tf.Tensor(3, shape=(), dtype=int32)\n",
      "2\n",
      "tf.Tensor(2, shape=(), dtype=int32)\n"
     ]
    },
    {
     "data": {
      "text/plain": [
       "[4, 3, 2]"
      ]
     },
     "execution_count": 78,
     "metadata": {},
     "output_type": "execute_result"
    }
   ],
   "source": [
    "shape_list_comm(t1)"
   ]
  },
  {
   "cell_type": "markdown",
   "metadata": {},
   "source": [
    "---\n",
    "### Fun star operator\n",
    "(used e.g. line 46)"
   ]
  },
  {
   "cell_type": "code",
   "execution_count": 85,
   "metadata": {},
   "outputs": [
    {
     "name": "stdout",
     "output_type": "stream",
     "text": [
      "[4, 3]\n",
      "2\n"
     ]
    }
   ],
   "source": [
    "*start, m = shape_list(t1)\n",
    "print(start)\n",
    "print(m)"
   ]
  },
  {
   "cell_type": "markdown",
   "metadata": {},
   "source": [
    "---"
   ]
  },
  {
   "cell_type": "markdown",
   "metadata": {},
   "source": [
    "## Gelu function plotted"
   ]
  },
  {
   "cell_type": "code",
   "execution_count": 47,
   "metadata": {},
   "outputs": [],
   "source": [
    "import matplotlib.pyplot as plt\n",
    "import numpy as np"
   ]
  },
  {
   "cell_type": "code",
   "execution_count": 54,
   "metadata": {},
   "outputs": [
    {
     "data": {
      "text/plain": [
       "[<matplotlib.lines.Line2D at 0x7f416203d710>]"
      ]
     },
     "execution_count": 54,
     "metadata": {},
     "output_type": "execute_result"
    },
    {
     "data": {
      "image/png": "[encoded data removed]",
      "text/plain": [
       "<Figure size 432x288 with 1 Axes>"
      ]
     },
     "metadata": {
      "needs_background": "light"
     },
     "output_type": "display_data"
    }
   ],
   "source": [
    "x = np.arange(-5, 2, 0.1)\n",
    "y = 0.5*x*(1+tf.tanh(np.sqrt(2/np.pi)*(x+0.044715*tf.pow(x, 3))))\n",
    "plt.grid(b=True, which='major', color='#666666', linestyle='-')\n",
    "plt.plot(x, y)"
   ]
  },
  {
   "cell_type": "markdown",
   "metadata": {},
   "source": [
    "---"
   ]
  },
  {
   "cell_type": "markdown",
   "metadata": {},
   "source": [
    "## Reduce_mean play & other shape fluff"
   ]
  },
  {
   "cell_type": "code",
   "execution_count": 68,
   "metadata": {},
   "outputs": [
    {
     "name": "stdout",
     "output_type": "stream",
     "text": [
      "tf.Tensor(3.5, shape=(), dtype=float32)\n",
      "tf.Tensor([3. 4.], shape=(2,), dtype=float32)\n",
      "tf.Tensor([1.  2.5 7. ], shape=(3,), dtype=float32)\n"
     ]
    }
   ],
   "source": [
    "xmean = tf.constant([[1., 1.],\n",
    "                     [3.,2.],\n",
    "                     [5., 9.]])\n",
    "print(tf.reduce_mean(xmean)) # A scalar\n",
    "print(tf.reduce_mean(xmean, axis=0)) # 'vertical' mean\n",
    "print(tf.reduce_mean(xmean, axis=1)) # 'horizontal/internal' mean"
   ]
  },
  {
   "cell_type": "code",
   "execution_count": 72,
   "metadata": {},
   "outputs": [
    {
     "data": {
      "text/plain": [
       "[3, 2]"
      ]
     },
     "execution_count": 72,
     "metadata": {},
     "output_type": "execute_result"
    }
   ],
   "source": [
    "xmean.shape.as_list()"
   ]
  },
  {
   "cell_type": "code",
   "execution_count": 92,
   "metadata": {},
   "outputs": [
    {
     "data": {
      "text/plain": [
       "2"
      ]
     },
     "execution_count": 92,
     "metadata": {},
     "output_type": "execute_result"
    }
   ],
   "source": [
    "xmean.ndim"
   ]
  },
  {
   "cell_type": "code",
   "execution_count": 73,
   "metadata": {},
   "outputs": [
    {
     "data": {
      "text/plain": [
       "TensorShape([Dimension(3), Dimension(2)])"
      ]
     },
     "execution_count": 73,
     "metadata": {},
     "output_type": "execute_result"
    }
   ],
   "source": [
    "xmean.shape"
   ]
  },
  {
   "cell_type": "code",
   "execution_count": 138,
   "metadata": {},
   "outputs": [
    {
     "data": {
      "text/plain": [
       "Dimension(2)"
      ]
     },
     "execution_count": 138,
     "metadata": {},
     "output_type": "execute_result"
    }
   ],
   "source": [
    "xmean.shape[1]"
   ]
  },
  {
   "cell_type": "code",
   "execution_count": 91,
   "metadata": {},
   "outputs": [
    {
     "data": {
      "text/plain": [
       "2"
      ]
     },
     "execution_count": 91,
     "metadata": {},
     "output_type": "execute_result"
    }
   ],
   "source": [
    "xmean.shape[1].value"
   ]
  },
  {
   "cell_type": "code",
   "execution_count": 74,
   "metadata": {},
   "outputs": [
    {
     "data": {
      "text/plain": [
       "<tf.Tensor: id=616, shape=(2,), dtype=int32, numpy=array([3, 2], dtype=int32)>"
      ]
     },
     "execution_count": 74,
     "metadata": {},
     "output_type": "execute_result"
    }
   ],
   "source": [
    "tf.shape(xmean)"
   ]
  },
  {
   "cell_type": "code",
   "execution_count": 103,
   "metadata": {},
   "outputs": [
    {
     "name": "stdout",
     "output_type": "stream",
     "text": [
      "tf.Tensor(\n",
      "[[1. 1. 3.]\n",
      " [2. 5. 9.]], shape=(2, 3), dtype=float32)\n",
      "tf.Tensor([[1. 1. 3. 2. 5. 9.]], shape=(1, 6), dtype=float32)\n"
     ]
    }
   ],
   "source": [
    "print(tf.reshape(xmean, [2,3]))\n",
    "print(tf.reshape(xmean, [1,6]))"
   ]
  },
  {
   "cell_type": "markdown",
   "metadata": {},
   "source": [
    "---"
   ]
  },
  {
   "cell_type": "markdown",
   "metadata": {},
   "source": [
    "## Splitting & merging states"
   ]
  },
  {
   "cell_type": "code",
   "execution_count": 120,
   "metadata": {},
   "outputs": [],
   "source": [
    "def split_states(x, n):\n",
    "    \"\"\"Reshape the last dimension of x into [n, x.shape[-1]/n].\"\"\"\n",
    "    *start, m = shape_list(x)\n",
    "    return tf.reshape(x, start + [n, m//n])"
   ]
  },
  {
   "cell_type": "code",
   "execution_count": 129,
   "metadata": {},
   "outputs": [],
   "source": [
    "splitx = tf.get_variable(\"splitx\",\n",
    "                         [2,3,4],\n",
    "                         tf.float32,\n",
    "                         initializer=tf.glorot_uniform_initializer)"
   ]
  },
  {
   "cell_type": "code",
   "execution_count": 130,
   "metadata": {},
   "outputs": [
    {
     "data": {
      "text/plain": [
       "<tf.Variable 'splitx:0' shape=(2, 3, 4) dtype=float32, numpy=\n",
       "array([[[ 0.09519899, -0.5179945 ,  0.60571945, -0.61901444],\n",
       "        [ 0.5326501 ,  0.6256759 , -0.21402407, -0.07976532],\n",
       "        [-0.14802265,  0.11726612,  0.35453045,  0.42391026]],\n",
       "\n",
       "       [[ 0.45691597,  0.24667728,  0.04992068, -0.42152926],\n",
       "        [ 0.07240939, -0.40548953,  0.5585022 ,  0.50473773],\n",
       "        [-0.22778407,  0.28633028, -0.44296736, -0.0016287 ]]],\n",
       "      dtype=float32)>"
      ]
     },
     "execution_count": 130,
     "metadata": {},
     "output_type": "execute_result"
    }
   ],
   "source": [
    "splitx"
   ]
  },
  {
   "cell_type": "code",
   "execution_count": 137,
   "metadata": {},
   "outputs": [
    {
     "name": "stdout",
     "output_type": "stream",
     "text": [
      "[2, 3]\n",
      "4\n",
      "[2, 3, 2, 2]\n"
     ]
    }
   ],
   "source": [
    "*start, m = shape_list(splitx)\n",
    "n = 2\n",
    "print(start)\n",
    "print(m)\n",
    "print(start + [n, m//n])"
   ]
  },
  {
   "cell_type": "code",
   "execution_count": 131,
   "metadata": {},
   "outputs": [
    {
     "data": {
      "text/plain": [
       "<tf.Tensor: id=799, shape=(2, 3, 2, 2), dtype=float32, numpy=\n",
       "array([[[[ 0.09519899, -0.5179945 ],\n",
       "         [ 0.60571945, -0.61901444]],\n",
       "\n",
       "        [[ 0.5326501 ,  0.6256759 ],\n",
       "         [-0.21402407, -0.07976532]],\n",
       "\n",
       "        [[-0.14802265,  0.11726612],\n",
       "         [ 0.35453045,  0.42391026]]],\n",
       "\n",
       "\n",
       "       [[[ 0.45691597,  0.24667728],\n",
       "         [ 0.04992068, -0.42152926]],\n",
       "\n",
       "        [[ 0.07240939, -0.40548953],\n",
       "         [ 0.5585022 ,  0.50473773]],\n",
       "\n",
       "        [[-0.22778407,  0.28633028],\n",
       "         [-0.44296736, -0.0016287 ]]]], dtype=float32)>"
      ]
     },
     "execution_count": 131,
     "metadata": {},
     "output_type": "execute_result"
    }
   ],
   "source": [
    "splitx_states = split_states(splitx, 2)\n",
    "splitx_states"
   ]
  },
  {
   "cell_type": "code",
   "execution_count": 132,
   "metadata": {},
   "outputs": [],
   "source": [
    "def merge_states(x):\n",
    "    \"\"\"Smash the last two dimensions of x into a single dimension.\"\"\"\n",
    "    *start, a, b = shape_list(x)\n",
    "    return tf.reshape(x, start + [a*b])"
   ]
  },
  {
   "cell_type": "code",
   "execution_count": 133,
   "metadata": {},
   "outputs": [
    {
     "data": {
      "text/plain": [
       "<tf.Tensor: id=803, shape=(2, 3, 4), dtype=float32, numpy=\n",
       "array([[[ 0.09519899, -0.5179945 ,  0.60571945, -0.61901444],\n",
       "        [ 0.5326501 ,  0.6256759 , -0.21402407, -0.07976532],\n",
       "        [-0.14802265,  0.11726612,  0.35453045,  0.42391026]],\n",
       "\n",
       "       [[ 0.45691597,  0.24667728,  0.04992068, -0.42152926],\n",
       "        [ 0.07240939, -0.40548953,  0.5585022 ,  0.50473773],\n",
       "        [-0.22778407,  0.28633028, -0.44296736, -0.0016287 ]]],\n",
       "      dtype=float32)>"
      ]
     },
     "execution_count": 133,
     "metadata": {},
     "output_type": "execute_result"
    }
   ],
   "source": [
    "re_splitx = merge_states(splitx_states)\n",
    "re_splitx"
   ]
  },
  {
   "cell_type": "markdown",
   "metadata": {},
   "source": [
    "---\n",
    "## Normalization\n",
    "\n",
    "Some fluff first:"
   ]
  },
  {
   "cell_type": "code",
   "execution_count": 166,
   "metadata": {},
   "outputs": [
    {
     "name": "stdout",
     "output_type": "stream",
     "text": [
      "orig\n",
      "[[1. 2. 3.]\n",
      " [4. 5. 6.]]\n",
      "----------\n",
      "orig -2\n",
      "[[-1.  0.  1.]\n",
      " [ 2.  3.  4.]]\n",
      "----------\n",
      "squared\n",
      "[[ 1.  0.  1.]\n",
      " [ 4.  9. 16.]]\n",
      "----------\n",
      "sqr = x^1/2\n",
      "[[1. 0. 1.]\n",
      " [2. 3. 4.]]\n",
      "----------\n",
      "rsqr: 1/(x^1/2), the inf at [0,1] being the reason why they use epsilon\n",
      "[[1.                inf 1.        ]\n",
      " [0.5        0.33333334 0.25      ]]\n",
      "----------\n",
      "rsqr: 1/(x^1/2), with epsilon\n",
      "[[9.9999499e-01 3.1622778e+02 9.9999499e-01]\n",
      " [4.9999940e-01 3.3333313e-01 2.4999994e-01]]\n",
      "----------\n"
     ]
    }
   ],
   "source": [
    "x = tf.constant([[1.,2.,3.],[4.,5.,6.]])\n",
    "print('orig', x.numpy(), sep='\\n', end='\\n----------\\n')\n",
    "y = x - 2.\n",
    "print('orig -2', y.numpy(), sep='\\n', end='\\n----------\\n')\n",
    "ysq = tf.square(y)\n",
    "print('squared', ysq.numpy(), sep='\\n', end='\\n----------\\n')\n",
    "print('sqr = x^1/2', tf.sqrt(ysq).numpy(), sep='\\n', end='\\n----------\\n')\n",
    "print('rsqr: 1/(x^1/2), the inf at [0,1] being the reason why they use epsilon', tf.rsqrt(ysq).numpy(), sep='\\n', end='\\n----------\\n') \n",
    "print('rsqr: 1/(x^1/2), with epsilon', tf.rsqrt(ysq + 1e-5).numpy(), sep='\\n', end='\\n----------\\n') "
   ]
  },
  {
   "cell_type": "markdown",
   "metadata": {},
   "source": [
    "### The function\n",
    "\n",
    "Deets:\n",
    "- axis=-1: reduce_mean applied to innermost dimension.  \n",
    "- shape[-1]: same  \n",
    "- using rsqrt instead of 1/sqrt\n",
    "\n",
    "The batch norm equations, from the [original paper](https://arxiv.org/pdf/1502.03167v3.pdf), found [here](https://towardsdatascience.com/batch-normalization-in-neural-networks-1ac91516821c): \n",
    "![norm](batch_norm.png \"Batch Normalization Equations\")\n",
    "\n",
    "See also these videos by Andrew Ng:\n",
    "- [Normalizing inputs](https://www.youtube.com/watch?v=FDCfw-YqWTE&list=PLkDaE6sCZn6Hn0vK8co82zjQtt3T2Nkqc&index=9);\n",
    "- [Batch Normalization](https://www.youtube.com/watch?v=tNIpEZLv_eg&list=PLkDaE6sCZn6Hn0vK8co82zjQtt3T2Nkqc&index=27).\n",
    "\n",
    "\n",
    "N.B: a * as as a function argument means: 'no positional arguments after this point', cf. [here](https://stackoverflow.com/a/53797072) and [there](https://www.python.org/dev/peps/pep-3102/)."
   ]
  },
  {
   "cell_type": "code",
   "execution_count": 167,
   "metadata": {},
   "outputs": [],
   "source": [
    "def norm(x, scope, *, axis=-1, epsilon=1e-5):\n",
    "    \"\"\"Normalize to mean = 0, std = 1, then do a diagonal affine transform.\"\"\"\n",
    "    with tf.variable_scope(scope):\n",
    "        # take the innermost dimension\n",
    "        n_state = x.shape[-1].value\n",
    "        \n",
    "        # weight & bias that will be trained\n",
    "        g = tf.get_variable('g', \n",
    "                            [n_state], \n",
    "                            initializer=tf.constant_initializer(1))\n",
    "        b = tf.get_variable('b', \n",
    "                            [n_state], \n",
    "                            initializer=tf.constant_initializer(0))\n",
    "        \n",
    "        # take the absolute mean\n",
    "        u = tf.reduce_mean(x, axis=axis, keepdims=True)\n",
    "        # take the variance\n",
    "        s = tf.reduce_mean(tf.square(x-u), axis=axis, keepdims=True)\n",
    "        # normalization\n",
    "        x = (x - u) * tf.rsqrt(s + epsilon)\n",
    "        # scaling & shifting using weight & bias\n",
    "        x = x*g + b\n",
    "        return x"
   ]
  }
 ],
 "metadata": {
  "kernelspec": {
   "display_name": "Python 3",
   "language": "python",
   "name": "python3"
  },
  "language_info": {
   "codemirror_mode": {
    "name": "ipython",
    "version": 3
   },
   "file_extension": ".py",
   "mimetype": "text/x-python",
   "name": "python",
   "nbconvert_exporter": "python",
   "pygments_lexer": "ipython3",
   "version": "3.6.7"
  }
 },
 "nbformat": 4,
 "nbformat_minor": 2
}
