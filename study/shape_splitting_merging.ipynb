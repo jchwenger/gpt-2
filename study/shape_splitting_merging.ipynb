{
 "cells": [
  {
   "cell_type": "markdown",
   "metadata": {},
   "source": [
    "# GPT-2 \n",
    "---\n",
    "## Study notebook\n",
    "\n",
    "Mostly TF utils & standard functions"
   ]
  },
  {
   "cell_type": "code",
   "execution_count": 7,
   "metadata": {},
   "outputs": [],
   "source": [
    "import tensorflow as tf\n",
    "import numpy as np"
   ]
  },
  {
   "cell_type": "code",
   "execution_count": 2,
   "metadata": {},
   "outputs": [],
   "source": [
    "tf.enable_eager_execution()"
   ]
  },
  {
   "cell_type": "markdown",
   "metadata": {},
   "source": [
    "---"
   ]
  },
  {
   "cell_type": "markdown",
   "metadata": {},
   "source": [
    "## Shape list\n",
    "\n",
    "Why the dynamic thing in the first place? See [this comment](https://stackoverflow.com/a/34082273) It is to deal with the difference with dynamic and static shapes: when data flows through the network on a batch per batch basis, the shapes will be, for instance, [None, x, y, z], and therefore the shape is not defined statically."
   ]
  },
  {
   "cell_type": "code",
   "execution_count": 79,
   "metadata": {},
   "outputs": [],
   "source": [
    "def shape_list(x):\n",
    "    \"\"\"Deal with dynamic shape in tensorflow cleanly.\"\"\"\n",
    "    static = x.shape.as_list()\n",
    "    dynamic = tf.shape(x)\n",
    "    return [dynamic[i] if s is None else s for i, s in enumerate(static)]"
   ]
  },
  {
   "cell_type": "code",
   "execution_count": 77,
   "metadata": {},
   "outputs": [],
   "source": [
    "def shape_list_comm(x):\n",
    "    \"\"\"Deal with dynamic shape in tensorflow cleanly.\"\"\"\n",
    "    static = x.shape.as_list()\n",
    "    print('static:', static)\n",
    "    dynamic = tf.shape(x)\n",
    "    print('dynamic:', dynamic)\n",
    "    for i, s in enumerate(static):\n",
    "        print(s)\n",
    "        print(dynamic[i])\n",
    "    return [dynamic[i] if s is None else s for i, s in enumerate(static)]"
   ]
  },
  {
   "cell_type": "code",
   "execution_count": 119,
   "metadata": {},
   "outputs": [
    {
     "name": "stdout",
     "output_type": "stream",
     "text": [
      "tf.Tensor(\n",
      "[[[-10 -21]\n",
      "  [-14   9]\n",
      "  [  1  -8]]\n",
      "\n",
      " [[-26   8]\n",
      "  [  7 -14]\n",
      "  [-33 -21]]\n",
      "\n",
      " [[ 25  14]\n",
      "  [ -5  -8]\n",
      "  [ 48  15]]\n",
      "\n",
      " [[ 13  18]\n",
      "  [-36   8]\n",
      "  [-45   5]]], shape=(4, 3, 2), dtype=int16)\n"
     ]
    }
   ],
   "source": [
    "t1 = tf.random.normal([4, 3,2], \n",
    "                      mean=0.0, \n",
    "                      stddev=20,\n",
    "                      dtype=tf.float32)\n",
    "print(tf.cast(t1, tf.int16)) # casting to int for readability"
   ]
  },
  {
   "cell_type": "code",
   "execution_count": 78,
   "metadata": {},
   "outputs": [
    {
     "name": "stdout",
     "output_type": "stream",
     "text": [
      "static: [4, 3, 2]\n",
      "dynamic: tf.Tensor([4 3 2], shape=(3,), dtype=int32)\n",
      "4\n",
      "tf.Tensor(4, shape=(), dtype=int32)\n",
      "3\n",
      "tf.Tensor(3, shape=(), dtype=int32)\n",
      "2\n",
      "tf.Tensor(2, shape=(), dtype=int32)\n"
     ]
    },
    {
     "data": {
      "text/plain": [
       "[4, 3, 2]"
      ]
     },
     "execution_count": 78,
     "metadata": {},
     "output_type": "execute_result"
    }
   ],
   "source": [
    "shape_list_comm(t1)"
   ]
  },
  {
   "cell_type": "markdown",
   "metadata": {},
   "source": [
    "---"
   ]
  },
  {
   "cell_type": "code",
   "execution_count": 72,
   "metadata": {},
   "outputs": [
    {
     "data": {
      "text/plain": [
       "[3, 2]"
      ]
     },
     "execution_count": 72,
     "metadata": {},
     "output_type": "execute_result"
    }
   ],
   "source": [
    "xmean.shape.as_list()"
   ]
  },
  {
   "cell_type": "code",
   "execution_count": 92,
   "metadata": {},
   "outputs": [
    {
     "data": {
      "text/plain": [
       "2"
      ]
     },
     "execution_count": 92,
     "metadata": {},
     "output_type": "execute_result"
    }
   ],
   "source": [
    "xmean.ndim"
   ]
  },
  {
   "cell_type": "code",
   "execution_count": 73,
   "metadata": {},
   "outputs": [
    {
     "data": {
      "text/plain": [
       "TensorShape([Dimension(3), Dimension(2)])"
      ]
     },
     "execution_count": 73,
     "metadata": {},
     "output_type": "execute_result"
    }
   ],
   "source": [
    "xmean.shape"
   ]
  },
  {
   "cell_type": "code",
   "execution_count": 138,
   "metadata": {},
   "outputs": [
    {
     "data": {
      "text/plain": [
       "Dimension(2)"
      ]
     },
     "execution_count": 138,
     "metadata": {},
     "output_type": "execute_result"
    }
   ],
   "source": [
    "xmean.shape[1]"
   ]
  },
  {
   "cell_type": "code",
   "execution_count": 91,
   "metadata": {},
   "outputs": [
    {
     "data": {
      "text/plain": [
       "2"
      ]
     },
     "execution_count": 91,
     "metadata": {},
     "output_type": "execute_result"
    }
   ],
   "source": [
    "xmean.shape[1].value"
   ]
  },
  {
   "cell_type": "code",
   "execution_count": 74,
   "metadata": {},
   "outputs": [
    {
     "data": {
      "text/plain": [
       "<tf.Tensor: id=616, shape=(2,), dtype=int32, numpy=array([3, 2], dtype=int32)>"
      ]
     },
     "execution_count": 74,
     "metadata": {},
     "output_type": "execute_result"
    }
   ],
   "source": [
    "tf.shape(xmean)"
   ]
  },
  {
   "cell_type": "code",
   "execution_count": 103,
   "metadata": {},
   "outputs": [
    {
     "name": "stdout",
     "output_type": "stream",
     "text": [
      "tf.Tensor(\n",
      "[[1. 1. 3.]\n",
      " [2. 5. 9.]], shape=(2, 3), dtype=float32)\n",
      "tf.Tensor([[1. 1. 3. 2. 5. 9.]], shape=(1, 6), dtype=float32)\n"
     ]
    }
   ],
   "source": [
    "print(tf.reshape(xmean, [2,3]))\n",
    "print(tf.reshape(xmean, [1,6]))"
   ]
  },
  {
   "cell_type": "markdown",
   "metadata": {},
   "source": [
    "---"
   ]
  },
  {
   "cell_type": "markdown",
   "metadata": {},
   "source": [
    "## Splitting & merging states"
   ]
  },
  {
   "cell_type": "code",
   "execution_count": 120,
   "metadata": {},
   "outputs": [],
   "source": [
    "def split_states(x, n):\n",
    "    \"\"\"Reshape the last dimension of x into [n, x.shape[-1]/n].\"\"\"\n",
    "    *start, m = shape_list(x)\n",
    "    return tf.reshape(x, start + [n, m//n])"
   ]
  },
  {
   "cell_type": "code",
   "execution_count": 129,
   "metadata": {},
   "outputs": [],
   "source": [
    "splitx = tf.get_variable(\"splitx\",\n",
    "                         [2,3,4],\n",
    "                         tf.float32,\n",
    "                         initializer=tf.glorot_uniform_initializer)"
   ]
  },
  {
   "cell_type": "code",
   "execution_count": 130,
   "metadata": {},
   "outputs": [
    {
     "data": {
      "text/plain": [
       "<tf.Variable 'splitx:0' shape=(2, 3, 4) dtype=float32, numpy=\n",
       "array([[[ 0.09519899, -0.5179945 ,  0.60571945, -0.61901444],\n",
       "        [ 0.5326501 ,  0.6256759 , -0.21402407, -0.07976532],\n",
       "        [-0.14802265,  0.11726612,  0.35453045,  0.42391026]],\n",
       "\n",
       "       [[ 0.45691597,  0.24667728,  0.04992068, -0.42152926],\n",
       "        [ 0.07240939, -0.40548953,  0.5585022 ,  0.50473773],\n",
       "        [-0.22778407,  0.28633028, -0.44296736, -0.0016287 ]]],\n",
       "      dtype=float32)>"
      ]
     },
     "execution_count": 130,
     "metadata": {},
     "output_type": "execute_result"
    }
   ],
   "source": [
    "splitx"
   ]
  },
  {
   "cell_type": "code",
   "execution_count": 137,
   "metadata": {},
   "outputs": [
    {
     "name": "stdout",
     "output_type": "stream",
     "text": [
      "[2, 3]\n",
      "4\n",
      "[2, 3, 2, 2]\n"
     ]
    }
   ],
   "source": [
    "*start, m = shape_list(splitx)\n",
    "n = 2\n",
    "print(start)\n",
    "print(m)\n",
    "print(start + [n, m//n])"
   ]
  },
  {
   "cell_type": "code",
   "execution_count": 131,
   "metadata": {},
   "outputs": [
    {
     "data": {
      "text/plain": [
       "<tf.Tensor: id=799, shape=(2, 3, 2, 2), dtype=float32, numpy=\n",
       "array([[[[ 0.09519899, -0.5179945 ],\n",
       "         [ 0.60571945, -0.61901444]],\n",
       "\n",
       "        [[ 0.5326501 ,  0.6256759 ],\n",
       "         [-0.21402407, -0.07976532]],\n",
       "\n",
       "        [[-0.14802265,  0.11726612],\n",
       "         [ 0.35453045,  0.42391026]]],\n",
       "\n",
       "\n",
       "       [[[ 0.45691597,  0.24667728],\n",
       "         [ 0.04992068, -0.42152926]],\n",
       "\n",
       "        [[ 0.07240939, -0.40548953],\n",
       "         [ 0.5585022 ,  0.50473773]],\n",
       "\n",
       "        [[-0.22778407,  0.28633028],\n",
       "         [-0.44296736, -0.0016287 ]]]], dtype=float32)>"
      ]
     },
     "execution_count": 131,
     "metadata": {},
     "output_type": "execute_result"
    }
   ],
   "source": [
    "splitx_states = split_states(splitx, 2)\n",
    "splitx_states"
   ]
  },
  {
   "cell_type": "code",
   "execution_count": 132,
   "metadata": {},
   "outputs": [],
   "source": [
    "def merge_states(x):\n",
    "    \"\"\"Smash the last two dimensions of x into a single dimension.\"\"\"\n",
    "    *start, a, b = shape_list(x)\n",
    "    return tf.reshape(x, start + [a*b])"
   ]
  },
  {
   "cell_type": "code",
   "execution_count": 133,
   "metadata": {},
   "outputs": [
    {
     "data": {
      "text/plain": [
       "<tf.Tensor: id=803, shape=(2, 3, 4), dtype=float32, numpy=\n",
       "array([[[ 0.09519899, -0.5179945 ,  0.60571945, -0.61901444],\n",
       "        [ 0.5326501 ,  0.6256759 , -0.21402407, -0.07976532],\n",
       "        [-0.14802265,  0.11726612,  0.35453045,  0.42391026]],\n",
       "\n",
       "       [[ 0.45691597,  0.24667728,  0.04992068, -0.42152926],\n",
       "        [ 0.07240939, -0.40548953,  0.5585022 ,  0.50473773],\n",
       "        [-0.22778407,  0.28633028, -0.44296736, -0.0016287 ]]],\n",
       "      dtype=float32)>"
      ]
     },
     "execution_count": 133,
     "metadata": {},
     "output_type": "execute_result"
    }
   ],
   "source": [
    "re_splitx = merge_states(splitx_states)\n",
    "re_splitx"
   ]
  }
 ],
 "metadata": {
  "kernelspec": {
   "display_name": "Python 3",
   "language": "python",
   "name": "python3"
  },
  "language_info": {
   "codemirror_mode": {
    "name": "ipython",
    "version": 3
   },
   "file_extension": ".py",
   "mimetype": "text/x-python",
   "name": "python",
   "nbconvert_exporter": "python",
   "pygments_lexer": "ipython3",
   "version": "3.7.3"
  }
 },
 "nbformat": 4,
 "nbformat_minor": 4
}
