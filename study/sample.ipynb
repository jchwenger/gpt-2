{
 "cells": [
  {
   "cell_type": "markdown",
   "metadata": {},
   "source": [
    "# GPT-2 \n",
    "---"
   ]
  },
  {
   "cell_type": "code",
   "execution_count": 13,
   "metadata": {},
   "outputs": [],
   "source": [
    "import tensorflow as tf"
   ]
  },
  {
   "cell_type": "code",
   "execution_count": 14,
   "metadata": {},
   "outputs": [],
   "source": [
    "tf.enable_eager_execution()"
   ]
  },
  {
   "cell_type": "code",
   "execution_count": 15,
   "metadata": {},
   "outputs": [],
   "source": [
    "def nprint(*args):\n",
    "    print(*args, end='\\n\\n-----------------\\n')"
   ]
  },
  {
   "cell_type": "code",
   "execution_count": 42,
   "metadata": {},
   "outputs": [],
   "source": [
    "# dir needs to be pointing to main repo, not /study\n",
    "from src import encoder\n",
    "from src import model\n",
    "from src import sample"
   ]
  },
  {
   "cell_type": "markdown",
   "metadata": {},
   "source": [
    "---\n",
    "\n",
    "## Sampling "
   ]
  },
  {
   "cell_type": "code",
   "execution_count": 87,
   "metadata": {},
   "outputs": [
    {
     "name": "stdout",
     "output_type": "stream",
     "text": [
      "0.012374106\n"
     ]
    }
   ],
   "source": [
    "# must be of the shape [batch>=1, n]\n",
    "logits = tf.get_variable('logits', [1,100])\n",
    "# print(logits.numpy())\n",
    "print(tf.reduce_mean(logits).numpy())"
   ]
  },
  {
   "cell_type": "markdown",
   "metadata": {},
   "source": [
    "---\n",
    "\n",
    "`tf.nn.top_k` returns two arrays in a special TopKV2 object:\n",
    "- the top values;\n",
    "- their indices in the original tensor"
   ]
  },
  {
   "cell_type": "code",
   "execution_count": 127,
   "metadata": {},
   "outputs": [
    {
     "name": "stdout",
     "output_type": "stream",
     "text": [
      "topk: the array of top values, the array of positions:\n",
      "[[0.24148285 0.23894462]]\n",
      "[[60 49]]\n",
      "\n",
      "the values at indices in topk[1]:\n",
      "[0.24148285, 0.23894462]\n",
      "\n",
      "another way of doing it using tf.gather_nd\n",
      "[0.24148285 0.23894462]\n"
     ]
    }
   ],
   "source": [
    "topk = tf.nn.top_k(logits, k=2)\n",
    "print('topk: the array of top values, the array of positions:')\n",
    "[print(t.numpy()) for t in topk]\n",
    "print()\n",
    "\n",
    "print('the values at indices in topk[1]:')\n",
    "print([logits[0][pos].numpy() for pos in topk[1][0]])\n",
    "print()\n",
    "\n",
    "print('another way of doing it using tf.gather_nd')\n",
    "# prepare indices for gather_nd: same as element access\n",
    "indices = [[0, bl.numpy()] for bl in topk[1][0]]\n",
    "print(tf.gather_nd(logits, indices).numpy())"
   ]
  },
  {
   "cell_type": "markdown",
   "metadata": {},
   "source": [
    "---\n",
    "Now, as we can see, only values above 2 are selected, the rest being -1e10."
   ]
  },
  {
   "cell_type": "code",
   "execution_count": 128,
   "metadata": {},
   "outputs": [
    {
     "name": "stdout",
     "output_type": "stream",
     "text": [
      "[[-1.0000000e+10 -1.0000000e+10 -1.0000000e+10 -1.0000000e+10\n",
      "  -1.0000000e+10 -1.0000000e+10 -1.0000000e+10 -1.0000000e+10\n",
      "  -1.0000000e+10 -1.0000000e+10 -1.0000000e+10 -1.0000000e+10\n",
      "  -1.0000000e+10 -1.0000000e+10 -1.0000000e+10 -1.0000000e+10\n",
      "  -1.0000000e+10 -1.0000000e+10 -1.0000000e+10 -1.0000000e+10\n",
      "  -1.0000000e+10 -1.0000000e+10 -1.0000000e+10 -1.0000000e+10\n",
      "  -1.0000000e+10 -1.0000000e+10 -1.0000000e+10 -1.0000000e+10\n",
      "  -1.0000000e+10 -1.0000000e+10 -1.0000000e+10 -1.0000000e+10\n",
      "  -1.0000000e+10 -1.0000000e+10 -1.0000000e+10 -1.0000000e+10\n",
      "  -1.0000000e+10 -1.0000000e+10 -1.0000000e+10 -1.0000000e+10\n",
      "  -1.0000000e+10 -1.0000000e+10 -1.0000000e+10 -1.0000000e+10\n",
      "  -1.0000000e+10 -1.0000000e+10 -1.0000000e+10 -1.0000000e+10\n",
      "  -1.0000000e+10  2.3894462e-01 -1.0000000e+10 -1.0000000e+10\n",
      "  -1.0000000e+10 -1.0000000e+10 -1.0000000e+10 -1.0000000e+10\n",
      "  -1.0000000e+10 -1.0000000e+10 -1.0000000e+10 -1.0000000e+10\n",
      "   2.4148285e-01 -1.0000000e+10 -1.0000000e+10 -1.0000000e+10\n",
      "  -1.0000000e+10 -1.0000000e+10 -1.0000000e+10 -1.0000000e+10\n",
      "  -1.0000000e+10 -1.0000000e+10 -1.0000000e+10 -1.0000000e+10\n",
      "  -1.0000000e+10 -1.0000000e+10 -1.0000000e+10 -1.0000000e+10\n",
      "  -1.0000000e+10 -1.0000000e+10 -1.0000000e+10 -1.0000000e+10\n",
      "  -1.0000000e+10 -1.0000000e+10 -1.0000000e+10 -1.0000000e+10\n",
      "  -1.0000000e+10 -1.0000000e+10 -1.0000000e+10 -1.0000000e+10\n",
      "  -1.0000000e+10 -1.0000000e+10 -1.0000000e+10 -1.0000000e+10\n",
      "  -1.0000000e+10 -1.0000000e+10 -1.0000000e+10 -1.0000000e+10\n",
      "  -1.0000000e+10 -1.0000000e+10 -1.0000000e+10 -1.0000000e+10]]\n"
     ]
    }
   ],
   "source": [
    "print(sample.top_k_logits(logits, k=2).numpy())"
   ]
  }
 ],
 "metadata": {
  "kernelspec": {
   "display_name": "Python 3",
   "language": "python",
   "name": "python3"
  },
  "language_info": {
   "codemirror_mode": {
    "name": "ipython",
    "version": 3
   },
   "file_extension": ".py",
   "mimetype": "text/x-python",
   "name": "python",
   "nbconvert_exporter": "python",
   "pygments_lexer": "ipython3",
   "version": "3.7.3"
  }
 },
 "nbformat": 4,
 "nbformat_minor": 4
}
