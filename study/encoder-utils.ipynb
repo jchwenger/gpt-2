{
 "cells": [
  {
   "cell_type": "markdown",
   "metadata": {},
   "source": [
    "# GPT-2"
   ]
  },
  {
   "cell_type": "code",
   "execution_count": 8,
   "metadata": {},
   "outputs": [],
   "source": [
    "import sys\n",
    "sys.path.append('..')"
   ]
  },
  {
   "cell_type": "code",
   "execution_count": 2,
   "metadata": {},
   "outputs": [],
   "source": [
    "def cprint(things):\n",
    "    print(*things, sep='\\n')"
   ]
  },
  {
   "cell_type": "code",
   "execution_count": 18,
   "metadata": {},
   "outputs": [],
   "source": [
    "import os\n",
    "import json\n",
    "import random\n",
    "from src.encoder import Encoder"
   ]
  },
  {
   "cell_type": "markdown",
   "metadata": {},
   "source": [
    "---\n",
    "\n",
    "## Byte Pair Encoding Utilities\n",
    "\n"
   ]
  },
  {
   "cell_type": "markdown",
   "metadata": {},
   "source": [
    "---\n",
    "### Get pairs\n",
    "\n",
    "Disseminate a word into the set of its ordered pairs."
   ]
  },
  {
   "cell_type": "code",
   "execution_count": 3,
   "metadata": {},
   "outputs": [],
   "source": [
    "def get_pairs(word):\n",
    "    \"\"\"\n",
    "    Return set of symbol pairs in a word.\n",
    "    Word argument is given as a tuple of symbols (symbols being variable-length strings).\n",
    "\n",
    "    Thus, the word 'word' is represented as;\n",
    "    {('o', 'r'), ('r', 'd'), ('w', 'o')}\n",
    "    \"\"\"\n",
    "    pairs = set()\n",
    "    \n",
    "    prev_char = word[0] # init at first char\n",
    "    \n",
    "    # for each char, create a pair with the following one, then shift by one char\n",
    "    for char in word[1:]:\n",
    "        pairs.add((prev_char, char))\n",
    "        prev_char = char\n",
    "        \n",
    "    return pairs"
   ]
  },
  {
   "cell_type": "code",
   "execution_count": 4,
   "metadata": {},
   "outputs": [
    {
     "name": "stdout",
     "output_type": "stream",
     "text": [
      "('t', 'a')\n",
      "('a', 'n')\n",
      "('h', 'm')\n",
      "('e', 'n')\n",
      "('s', 't')\n",
      "('l', 'i')\n",
      "('s', 'e')\n",
      "('e', 's')\n",
      "('i', 'd')\n",
      "('n', 't')\n",
      "('d', 'i')\n",
      "('i', 's')\n",
      "('a', 'b')\n",
      "('t', 'i')\n",
      "('n', 'i')\n",
      "('a', 'r')\n",
      "('s', 'h')\n",
      "('b', 'l')\n",
      "('m', 'e')\n",
      "('i', 'a')\n",
      "('s', 'm')\n",
      "('r', 'i')\n"
     ]
    }
   ],
   "source": [
    "word = 'antidisestablishmentarianism'\n",
    "cprint(get_pairs(word))"
   ]
  },
  {
   "cell_type": "markdown",
   "metadata": {},
   "source": [
    "The function, however, will not take python strings directly after the first iteration, but a tuple of symbols (strings), those symbols being the byte-pair-encodings that the algorithm will have generated. \n",
    "Thus, instead of taking 'antidisestablishmentarianism', it will take, e.g. `('ant', 'idis', 'establishment', 'arian', 'ism')`, and look for pairs in that."
   ]
  },
  {
   "cell_type": "code",
   "execution_count": 5,
   "metadata": {},
   "outputs": [
    {
     "name": "stdout",
     "output_type": "stream",
     "text": [
      "('arian', 'ism')\n",
      "('ant', 'idis')\n",
      "('idis', 'establishment')\n",
      "('establishment', 'arian')\n"
     ]
    }
   ],
   "source": [
    "word = ('ant', 'idis', 'establishment', 'arian', 'ism')\n",
    "cprint(get_pairs(word))"
   ]
  },
  {
   "cell_type": "markdown",
   "metadata": {},
   "source": [
    "---\n",
    "N.B: because this is a set, words that are composed of the same pairs become the same. More specifically, any *shift right or left* ([cyclic permutation](https://en.wikipedia.org/wiki/Cyclic_permutation)) of the letters gives the same result. Quite unproblematic for NLP, but still worth knowing. "
   ]
  },
  {
   "cell_type": "code",
   "execution_count": 6,
   "metadata": {},
   "outputs": [
    {
     "name": "stdout",
     "output_type": "stream",
     "text": [
      "{('c', 'a'), ('a', 'b'), ('b', 'c')}\n",
      "{('c', 'a'), ('a', 'b'), ('b', 'c')}\n",
      "{('c', 'a'), ('a', 'b'), ('b', 'c')}\n"
     ]
    }
   ],
   "source": [
    "print(get_pairs('cabc'))\n",
    "print(get_pairs('abca'))\n",
    "print(get_pairs('bcab'))"
   ]
  },
  {
   "cell_type": "markdown",
   "metadata": {},
   "source": [
    "---\n",
    "\n",
    "### Get Encoder\n",
    "\n",
    "Read from json, bpe & create Encoder object."
   ]
  },
  {
   "cell_type": "code",
   "execution_count": 12,
   "metadata": {},
   "outputs": [],
   "source": [
    "def get_encoder(model_name):\n",
    "    # get the vocabulary as a json file \n",
    "    with open(os.path.join('../models', model_name, 'encoder.json'), 'r') as f:\n",
    "        encoder = json.load(f)\n",
    "    # get the complete vocabulary as txt file\n",
    "    with open(os.path.join('../models', model_name, 'vocab.bpe'), 'r', encoding=\"utf-8\") as f:\n",
    "        bpe_data = f.read()\n",
    "\n",
    "    # translates a string format with x y on each line to [(x,y),...]\n",
    "    # see `vocab.bpe` for reference\n",
    "    bpe_merges = [tuple(merge_str.split()) for merge_str in bpe_data.split('\\n')[1:-1]]\n",
    "                                                                                # skip the first line\n",
    "                                                                                # that has the version,\n",
    "                                                                                # skip the last element\n",
    "                                                                                # of split, which will\n",
    "                                                                                # be empty\n",
    "    return Encoder(\n",
    "        encoder=encoder,\n",
    "        bpe_merges=bpe_merges,\n",
    "    )"
   ]
  },
  {
   "cell_type": "code",
   "execution_count": 13,
   "metadata": {},
   "outputs": [],
   "source": [
    "model_name = '117M'"
   ]
  },
  {
   "cell_type": "markdown",
   "metadata": {},
   "source": [
    "---\n",
    "## The encoder (json)"
   ]
  },
  {
   "cell_type": "code",
   "execution_count": 16,
   "metadata": {},
   "outputs": [],
   "source": [
    "with open(os.path.join('../models', model_name, 'encoder.json'), 'r') as f:\n",
    "        json117 = json.load(f)"
   ]
  },
  {
   "cell_type": "code",
   "execution_count": 19,
   "metadata": {},
   "outputs": [
    {
     "name": "stdout",
     "output_type": "stream",
     "text": [
      "Size of dict: 50257\n",
      "A random element: ('ĠShields', 30512)\n"
     ]
    }
   ],
   "source": [
    "print('Size of dict:', len(json117))\n",
    "print('A random element:', random.choice(list(json117.items())))"
   ]
  },
  {
   "cell_type": "markdown",
   "metadata": {},
   "source": [
    "---\n",
    "## The bpe_encoder"
   ]
  },
  {
   "cell_type": "code",
   "execution_count": 20,
   "metadata": {},
   "outputs": [],
   "source": [
    "with open(os.path.join('../models', model_name, 'vocab.bpe'), 'r', encoding=\"utf-8\") as f:\n",
    "    bpe117 = f.read().split('\\n')"
   ]
  },
  {
   "cell_type": "code",
   "execution_count": 21,
   "metadata": {},
   "outputs": [
    {
     "name": "stdout",
     "output_type": "stream",
     "text": [
      "Length of string: 50002\n",
      "\n",
      "#version: 0.2\n",
      "Ġ t\n",
      "Ġ a\n",
      "h e\n",
      "i n\n",
      "r e\n",
      "o n\n",
      "Ġt he\n",
      "e r\n",
      "Ġ s\n",
      "\n",
      "Ġ( /\n",
      "âĢ¦ .\"\n",
      "Com par\n",
      "Ġampl ification\n",
      "om inated\n",
      "Ġreg ress\n",
      "ĠColl ider\n",
      "Ġinform ants\n",
      "Ġg azed\n",
      "\n"
     ]
    }
   ],
   "source": [
    "print('Length of string:', len(bpe117))\n",
    "print()\n",
    "cprint(bpe117[:10])\n",
    "print()\n",
    "cprint(bpe117[-10:])"
   ]
  },
  {
   "cell_type": "markdown",
   "metadata": {},
   "source": [
    "## The bpe merges\n",
    "(pairs of symbols, e.g. ('trans', 'mission'))"
   ]
  },
  {
   "cell_type": "code",
   "execution_count": 22,
   "metadata": {},
   "outputs": [
    {
     "name": "stdout",
     "output_type": "stream",
     "text": [
      "First ten elements:\n",
      "('Ġ', 't')\n",
      "('Ġ', 'a')\n",
      "('h', 'e')\n",
      "('i', 'n')\n",
      "('r', 'e')\n",
      "('o', 'n')\n",
      "('Ġt', 'he')\n",
      "('e', 'r')\n",
      "('Ġ', 's')\n",
      "('a', 't')\n",
      "\n",
      "Last ten elements:\n",
      "('Comm', 'ission')\n",
      "('Ġ(', '/')\n",
      "('âĢ¦', '.\"')\n",
      "('Com', 'par')\n",
      "('Ġampl', 'ification')\n",
      "('om', 'inated')\n",
      "('Ġreg', 'ress')\n",
      "('ĠColl', 'ider')\n",
      "('Ġinform', 'ants')\n",
      "('Ġg', 'azed')\n"
     ]
    }
   ],
   "source": [
    "bpe_merges = [tuple(merge_str.split()) for merge_str in bpe117[1:-1]]\n",
    "print('First ten elements:')\n",
    "cprint(bpe_merges[:10])\n",
    "print()\n",
    "print('Last ten elements:')\n",
    "cprint(bpe_merges[-10:])"
   ]
  },
  {
   "cell_type": "markdown",
   "metadata": {},
   "source": [
    "## N.B.: the Ġ\n",
    "\n",
    "For the Ġ, which represents the space, see `bytes-to-unicode.ipynb`."
   ]
  }
 ],
 "metadata": {
  "kernelspec": {
   "display_name": "Python 3",
   "language": "python",
   "name": "python3"
  },
  "language_info": {
   "codemirror_mode": {
    "name": "ipython",
    "version": 3
   },
   "file_extension": ".py",
   "mimetype": "text/x-python",
   "name": "python",
   "nbconvert_exporter": "python",
   "pygments_lexer": "ipython3",
   "version": "3.7.3"
  }
 },
 "nbformat": 4,
 "nbformat_minor": 4
}
