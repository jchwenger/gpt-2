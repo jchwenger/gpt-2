{
 "cells": [
  {
   "cell_type": "code",
   "execution_count": 1,
   "metadata": {},
   "outputs": [],
   "source": [
    "from importlib import reload\n",
    "import gpt_2_simple as gpt2\n",
    "import tensorflow as tf\n",
    "from time import sleep\n",
    "import string\n",
    "import random\n",
    "import regex\n",
    "import time\n",
    "import os"
   ]
  },
  {
   "cell_type": "markdown",
   "metadata": {},
   "source": [
    "---\n",
    "\n",
    "# Kickstart"
   ]
  },
  {
   "cell_type": "code",
   "execution_count": 2,
   "metadata": {},
   "outputs": [
    {
     "name": "stdout",
     "output_type": "stream",
     "text": [
      "Loading checkpoint checkpoint/run1/model-34500\n",
      "WARNING:tensorflow:From /home/default/miniconda3/lib/python3.7/site-packages/tensorflow/python/training/saver.py:1276: checkpoint_exists (from tensorflow.python.training.checkpoint_management) is deprecated and will be removed in a future version.\n",
      "Instructions for updating:\n",
      "Use standard file APIs to check for files with this prefix.\n",
      "INFO:tensorflow:Restoring parameters from checkpoint/run1/model-34500\n"
     ]
    }
   ],
   "source": [
    "sess = gpt2.start_tf_sess()\n",
    "gpt2.load_gpt2(sess)"
   ]
  },
  {
   "cell_type": "markdown",
   "metadata": {},
   "source": [
    "---\n",
    "\n",
    "## Checks for very long input"
   ]
  },
  {
   "cell_type": "code",
   "execution_count": 5,
   "metadata": {},
   "outputs": [
    {
     "name": "stdout",
     "output_type": "stream",
     "text": [
      "Length of text: 3120\n",
      "Reconnaissons ici la voie par où advient le nécessaire : en bonne logique\n",
      "s'entend, celle qui ordonne ses modes de procéder d'où elle accède, soit cet\n",
      "impossible, modique sans doute quoique dès lors incommode, que pour qu'un dit\n",
      "soit vrai, encore faut-il qu'on le dise, que dire il y en ait.  En quoi la\n",
      "grammaire mesure déjà force et faiblesse des logiques qui s'en isolent, pour,\n",
      "de son subjonctif, les cliver, et s'indique en concentrer la puissance, de\n",
      "toutes les frayer.  Car, j'y reviens une fois de plus,\" il n'y a pas de\n",
      "métalangage \" tel qu'aucune des logiques, à s'intituler de la proposition,\n",
      "puisse s'en faire béquille (qu'à chacune reste son imbécillité), et si l'on\n",
      "croit le retrouver dans ma référence, plus haut, au discours, je le réfute de\n",
      "ce que la phrase qui a l'air là de faire objet pour la seconde, ne s'en\n",
      "applique pas moins significativement à celle-ci.\n",
      "Car cette seconde, qu'on la dise reste oublié derrière ce qu'elle dit. Et ceci\n",
      "de façon d'autant plus frappante qu'assertive, elle sans rémission au point\n",
      "d'être tautologique en les preuves qu'elle avance, – à dénoncer dans la\n",
      "première son semblant, elle pose son propre dire comme inexistant, puisqu'en\n",
      "contestant celle-ci comme dit de vérité, c'est l'existence qu'elle fait\n",
      "répondre de son dire, ceci non pas de faire ce dire exister puisque seulement\n",
      "elle le dénomme, mais d'en nier la vérité – sans le dire.  A étendre ce procès,\n",
      "naît la formule, mienne, qu'il n'y a pas d'universelle qui ne doive se contenir\n",
      "d'une existence qui la nie. Tel le stéréotype que tout homme soit mortel, ne\n",
      "s'énonce pas de nulle part. La logique qui le date, n'est que celle d'une\n",
      "philosophie qui feint cette nullibiquité, ce pour faire alibi à ce que je\n",
      "dénomme discours du maître.  Or ce n'est pas de ce seul discours, mais de la\n",
      "place ou font tour d'autres (d'autres discours), celle que je désigne du\n",
      "semblant, qu'un dire prend son sens.  Cette place n'est pas pour tous, mais\n",
      "elle leur ex-sise, et c'est de là que s'hommologue que tous soient mortels. Ils\n",
      "ne peuvent que l'être tous, parce qu'à la mort on les délègue de cette place,\n",
      "tous il faut bien, puisque c'est là qu'on veille à la merveille du bien de\n",
      "tous. Et particulièrement quand ce qui y veille y fait semblant du signifiant\n",
      "maître ou du savoir. D'où la ritournelle de la logique philosophique.\n",
      "Il n'y a donc pas d'universel qui ne se réduise au possible. Même la mort,\n",
      "puisque c'est là la pointe dont seulement elle s'articule. Si universelle qu'on\n",
      "la pose, elle ne reste jamais que possible. Que la loi s'allège de s'affirmer\n",
      "comme formulée de nulle part, c'est-à-dire d'être sans raison, confirme encore\n",
      "d'où part son dire.  Avant de rendre à l'analyse le mérite de cette\n",
      "aperception, acquittons-nous envers nos phrases à remarquer que \" dans ce qui\n",
      "s'entend \" de la, première, se branche également sur l'existence du \" reste\n",
      "oublié \" que relève la seconde et sur le \" ce qui se dit \" qu'elle-même\n",
      "dénonce comme, ce reste, le couvrant.  Où je note au passage le défaut de\n",
      "l'essai \" transformationnel \" de faire logique d'un recours à une structure\n",
      "profonde qui serait un arbre à étages.\n",
      "<|finderéplique|>\n",
      "LISETTE.\n",
      "<|débutderéplique|>\n",
      "Je m'en crois aussi, et je ne sais quel raisonnement, mais je vous en réponds. \n",
      "<|finderéplique|>\n",
      "LISETTE.\n",
      "<|débutderéplique|>\n",
      "Enfin, si de la sorte la chose n'est pas chose tôt qu'il n'y a rien de nouveau,\n",
      "vous dirai que la première, ne se dégage pas de la seconde, car ils ne s'en déf\n"
     ]
    }
   ],
   "source": [
    "pref = \"\"\"Reconnaissons ici la voie par où advient le nécessaire : en bonne logique\n",
    "s'entend, celle qui ordonne ses modes de procéder d'où elle accède, soit cet\n",
    "impossible, modique sans doute quoique dès lors incommode, que pour qu'un dit\n",
    "soit vrai, encore faut-il qu'on le dise, que dire il y en ait.  En quoi la\n",
    "grammaire mesure déjà force et faiblesse des logiques qui s'en isolent, pour,\n",
    "de son subjonctif, les cliver, et s'indique en concentrer la puissance, de\n",
    "toutes les frayer.  Car, j'y reviens une fois de plus,\\\" il n'y a pas de\n",
    "métalangage \\\" tel qu'aucune des logiques, à s'intituler de la proposition,\n",
    "puisse s'en faire béquille (qu'à chacune reste son imbécillité), et si l'on\n",
    "croit le retrouver dans ma référence, plus haut, au discours, je le réfute de\n",
    "ce que la phrase qui a l'air là de faire objet pour la seconde, ne s'en\n",
    "applique pas moins significativement à celle-ci.\n",
    "Car cette seconde, qu'on la dise reste oublié derrière ce qu'elle dit. Et ceci\n",
    "de façon d'autant plus frappante qu'assertive, elle sans rémission au point\n",
    "d'être tautologique en les preuves qu'elle avance, – à dénoncer dans la\n",
    "première son semblant, elle pose son propre dire comme inexistant, puisqu'en\n",
    "contestant celle-ci comme dit de vérité, c'est l'existence qu'elle fait\n",
    "répondre de son dire, ceci non pas de faire ce dire exister puisque seulement\n",
    "elle le dénomme, mais d'en nier la vérité – sans le dire.  A étendre ce procès,\n",
    "naît la formule, mienne, qu'il n'y a pas d'universelle qui ne doive se contenir\n",
    "d'une existence qui la nie. Tel le stéréotype que tout homme soit mortel, ne\n",
    "s'énonce pas de nulle part. La logique qui le date, n'est que celle d'une\n",
    "philosophie qui feint cette nullibiquité, ce pour faire alibi à ce que je\n",
    "dénomme discours du maître.  Or ce n'est pas de ce seul discours, mais de la\n",
    "place ou font tour d'autres (d'autres discours), celle que je désigne du\n",
    "semblant, qu'un dire prend son sens.  Cette place n'est pas pour tous, mais\n",
    "elle leur ex-sise, et c'est de là que s'hommologue que tous soient mortels. Ils\n",
    "ne peuvent que l'être tous, parce qu'à la mort on les délègue de cette place,\n",
    "tous il faut bien, puisque c'est là qu'on veille à la merveille du bien de\n",
    "tous. Et particulièrement quand ce qui y veille y fait semblant du signifiant\n",
    "maître ou du savoir. D'où la ritournelle de la logique philosophique.\n",
    "Il n'y a donc pas d'universel qui ne se réduise au possible. Même la mort,\n",
    "puisque c'est là la pointe dont seulement elle s'articule. Si universelle qu'on\n",
    "la pose, elle ne reste jamais que possible. Que la loi s'allège de s'affirmer\n",
    "comme formulée de nulle part, c'est-à-dire d'être sans raison, confirme encore\n",
    "d'où part son dire.  Avant de rendre à l'analyse le mérite de cette\n",
    "aperception, acquittons-nous envers nos phrases à remarquer que \\\" dans ce qui\n",
    "s'entend \\\" de la, première, se branche également sur l'existence du \\\" reste\n",
    "oublié \\\" que relève la seconde et sur le \\\" ce qui se dit \\\" qu'elle-même\n",
    "dénonce comme, ce reste, le couvrant.  Où je note au passage le défaut de\n",
    "l'essai \\\" transformationnel \\\" de faire logique d'un recours à une structure\n",
    "profonde qui serait un arbre à étages.\n",
    "\"\"\" \n",
    "print('Length of text:', len(pref))\n",
    "\n",
    "gpt2.generate(sess, \n",
    "              prefix=pref,\n",
    "              length=150)"
   ]
  },
  {
   "cell_type": "code",
   "execution_count": 3,
   "metadata": {},
   "outputs": [
    {
     "name": "stdout",
     "output_type": "stream",
     "text": [
      "General utility for incrementally downloading files from the internet\n",
      "    with progress bar\n",
      "    from url_base / sub_dir / filename\n",
      "    to local file system sub_dir / filename\n",
      "\n",
      "    Parameters\n",
      "    ----------\n",
      "    file_name : str\n",
      "        name of file to get e.g. \"hparams.json\"\n",
      "    sub_dir: str\n",
      "        subdirectory inside which to get and copy locally eg. \"models/124M\" \n",
      "        no trailing slash\n",
      "    url_base : str\n",
      "        Start of URL location specifying server and any base directories no \n",
      "        trailing slash\n",
      "        e.g. \"https://storage.googleapis.com/gpt-2\"\n",
      "    \n"
     ]
    }
   ],
   "source": [
    "print(gpt2.download_file_with_progress.__doc__)"
   ]
  },
  {
   "cell_type": "markdown",
   "metadata": {},
   "source": [
    "---\n",
    "\n",
    "## Test Encoder"
   ]
  },
  {
   "cell_type": "code",
   "execution_count": 3,
   "metadata": {},
   "outputs": [],
   "source": [
    "enc = gpt2.src.encoder.get_encoder('checkpoint/run1/')"
   ]
  },
  {
   "cell_type": "code",
   "execution_count": 15,
   "metadata": {},
   "outputs": [
    {
     "name": "stdout",
     "output_type": "stream",
     "text": [
      "4650\n",
      "1740\n"
     ]
    }
   ],
   "source": [
    "context_tokens = enc.encode(pref*2)\n",
    "print(len(pref*2))\n",
    "print(len(context_tokens))"
   ]
  },
  {
   "cell_type": "markdown",
   "metadata": {},
   "source": [
    "---\n",
    "\n",
    "## Typewriter"
   ]
  },
  {
   "cell_type": "code",
   "execution_count": 9,
   "metadata": {},
   "outputs": [],
   "source": [
    "def typewrite(s, delay=0.03):\n",
    "    for c in s:\n",
    "        print(c, end='')\n",
    "        sleep(delay)"
   ]
  },
  {
   "cell_type": "code",
   "execution_count": 10,
   "metadata": {},
   "outputs": [
    {
     "name": "stdout",
     "output_type": "stream",
     "text": [
      "Le Sinthome de la construction de l'église\n",
      "d'Antoine, il a pu être question de la naissance de l'église de\n",
      "Saint-Marc, cette place où les anciens achevèrent de découvrir la\n",
      "vie de saint François.\n",
      "\n",
      "Il est à présent question de la permanence de l'église de la\n",
      "duchesse de La Vallière, qui,\n"
     ]
    }
   ],
   "source": [
    "s = \"\"\"Le Sinthome de la construction de l'église\n",
    "d'Antoine, il a pu être question de la naissance de l'église de\n",
    "Saint-Marc, cette place où les anciens achevèrent de découvrir la\n",
    "vie de saint François.\n",
    "\n",
    "Il est à présent question de la permanence de l'église de la\n",
    "duchesse de La Vallière, qui,\n",
    "\"\"\"\n",
    "typewrite(s)"
   ]
  },
  {
   "cell_type": "markdown",
   "metadata": {},
   "source": [
    "---\n",
    "\n",
    "## Dialgue prototype"
   ]
  },
  {
   "cell_type": "code",
   "execution_count": 69,
   "metadata": {},
   "outputs": [],
   "source": [
    "def invoke_gpt(pref):\n",
    "    return gpt2.generate(sess,\n",
    "          prefix=pref,\n",
    "          length=75,\n",
    "          return_as_list=True\n",
    "    )    \n",
    "\n",
    "def dialogue_gpt(pref):\n",
    "    pref = pref + '\\n<|finderéplique|>\\n'\n",
    "    end_pref = len(pref)\n",
    "    pref_re = regex.compile('(?<=<\\|débutderéplique\\|>\\n).*?(?=\\n<\\|finderéplique\\|>)', regex.DOTALL)\n",
    "    l = invoke_gpt(pref)[0]\n",
    "    l_no_pref = l[end_pref:]\n",
    "    print()\n",
    "    print('\\t'*3 + l[:end_pref].replace('\\n', '\\n\\t\\t\\t'))\n",
    "    print('\\t'*3 +'-----------------')\n",
    "    print('\\t'*3 + l_no_pref.replace('\\n', '\\n\\t\\t\\t'))\n",
    "    print()\n",
    "    m = regex.search(pref_re, l_no_pref)\n",
    "    while not m:\n",
    "        l = invoke_gpt(pref)[0]\n",
    "        l_no_pref = l[end_pref:]     \n",
    "        m = regex.search(pref_re, l_no_pref)    \n",
    "    else: \n",
    "        return l[:end_pref+m.span()[1]], m.group(0)"
   ]
  },
  {
   "cell_type": "code",
   "execution_count": 6,
   "metadata": {},
   "outputs": [],
   "source": [
    "pref = 'Ouh là là !'"
   ]
  },
  {
   "cell_type": "code",
   "execution_count": 11,
   "metadata": {
    "collapsed": true,
    "jupyter": {
     "outputs_hidden": true
    }
   },
   "outputs": [
    {
     "name": "stdout",
     "output_type": "stream",
     "text": [
      "\n",
      "Ouh là là !\n",
      "<|finderéplique|>\n",
      "ARISTE.\n",
      "<|débutderéplique|>\n",
      "Hélas !\n",
      "<|finderéplique|>\n",
      "MÉROPE.\n",
      "<|débutderéplique|>\n",
      "Que les Dieux, pour les punir,\n",
      "Ne doivent pas avoir dans les mains\n",
      "D'éclaircis volages et d'applaudissements.\n",
      "<|finderéplique|>\n",
      "ARISTE.\n",
      "<|débutderéplique|>\n",
      "Qui vous arrête.\n",
      "<|finderéplique|>\n",
      "MÉROPE.\n",
      "\n",
      "Ouh là là !\n",
      "<|finderéplique|>\n",
      "ARISTE.\n",
      "<|débutderéplique|>\n",
      "Hélas !\n",
      "<|finderéplique|>\n",
      "\n",
      "Hélas !\n"
     ]
    }
   ],
   "source": [
    "new_pref, l = dialogue_gpt(pref)\n",
    "print(new_pref)\n",
    "print()\n",
    "print(l)"
   ]
  },
  {
   "cell_type": "code",
   "execution_count": 54,
   "metadata": {},
   "outputs": [],
   "source": [
    "def dummy_dialogue(init='Ouh là là !'):\n",
    "    print('-', init)\n",
    "    pref = init\n",
    "    while True:\n",
    "        new_pref, l = dialogue_gpt(pref)\n",
    "        print('-', l)\n",
    "        print()\n",
    "        print('\\t'*3+new_pref.replace('\\n', '\\n\\t\\t\\t'))\n",
    "        print()\n",
    "#         new_pref = new_pref[-512:]\n",
    "#         truncate_ind = new_pref.find('<|débutderéplique|>')\n",
    "#         print('new prefix:')\n",
    "#         print(new_pref[truncate_ind:])\n",
    "#         print()\n",
    "#         print('-'*40)\n",
    "        pref = new_pref"
   ]
  },
  {
   "cell_type": "code",
   "execution_count": 71,
   "metadata": {},
   "outputs": [],
   "source": [
    "dummy_dialogue()"
   ]
  },
  {
   "cell_type": "markdown",
   "metadata": {},
   "source": [
    "---\n",
    "\n",
    "## Prefix truncation."
   ]
  },
  {
   "cell_type": "code",
   "execution_count": 97,
   "metadata": {},
   "outputs": [],
   "source": [
    "def rand_word():\n",
    "    return ''.join([random.choice(string.ascii_lowercase) for _ in range(0, random.randint(5,10))])\n",
    "    \n",
    "def rand_replique():\n",
    "    s = '<|débutderéplique|>\\n'\n",
    "    s += ' '.join([rand_word() for _ in range(10)])\n",
    "    s += '\\n<|finderéplique|>\\n'\n",
    "    return s"
   ]
  },
  {
   "cell_type": "code",
   "execution_count": 101,
   "metadata": {},
   "outputs": [
    {
     "name": "stdout",
     "output_type": "stream",
     "text": [
      "<|débutderéplique|>\n",
      "ifnonb eztyeuc eovwz havztscwk zmohslknpl fwvdradz rworspd lwyjmtpk gwzotehdc gvykxvth\n",
      "<|finderéplique|>\n",
      "\n"
     ]
    }
   ],
   "source": [
    "print(rand_replique())"
   ]
  },
  {
   "cell_type": "code",
   "execution_count": 105,
   "metadata": {},
   "outputs": [
    {
     "name": "stdout",
     "output_type": "stream",
     "text": [
      "<|débutderéplique|>\n",
      "ituppzulwo qdkufj vzhdyxmk egnjzlfym nfybe qxbvmex kyymuap lelzrwvin plozv enskpevd\n",
      "<|finderéplique|>\n",
      "<|débutderéplique|>\n",
      "azjdvp ihnse pdoprdrgkk hiabxd wfvpmm ejcgwvviyf zqhubziw mgezy ntietpmqkg paqsd\n",
      "<|finderéplique|>\n",
      "<|débutderéplique|>\n",
      "ohockfiyz hbplaqkky amxnpxlmb jrifjwwy dascopbg zssgc rvwzwfozmk jlkuqub vbilbd nwegbotdia\n",
      "<|finderéplique|>\n",
      "<|débutderéplique|>\n",
      "wxnthw bzxyz aclkdqj isvkz ogqlhhphf ruysfz bdiecurut tdsiqyvkfz lgxjfke olratvxyti\n",
      "<|finderéplique|>\n",
      "<|débutderéplique|>\n",
      "hebakrkwdl nbsxozgt ocibcivlzv ysozfhzyil kmbkob ncziln fgvilwr ubelxlsez rpbpdhrl xkfrr\n",
      "<|finderéplique|>\n",
      "<|débutderéplique|>\n",
      "oikqkn sdkkz gyxwjfu jelnykdp kdrxexc qzhlwk zpchb vpktujm wkiqv cpqphi\n",
      "<|finderéplique|>\n",
      "<|débutderéplique|>\n",
      "iwfxha qcumqyd ldfjzaet seqmch diovsci emsyqlceex pcvwkgsil vlikgshl rxxvm ekmns\n",
      "<|finderéplique|>\n",
      "\n",
      "----------------------------------------\n",
      "new prefix:\n",
      "<|débutderéplique|>\n",
      "wxnthw bzxyz aclkdqj isvkz ogqlhhphf ruysfz bdiecurut tdsiqyvkfz lgxjfke olratvxyti\n",
      "<|finderéplique|>\n",
      "<|débutderéplique|>\n",
      "hebakrkwdl nbsxozgt ocibcivlzv ysozfhzyil kmbkob ncziln fgvilwr ubelxlsez rpbpdhrl xkfrr\n",
      "<|finderéplique|>\n",
      "<|débutderéplique|>\n",
      "oikqkn sdkkz gyxwjfu jelnykdp kdrxexc qzhlwk zpchb vpktujm wkiqv cpqphi\n",
      "<|finderéplique|>\n",
      "<|débutderéplique|>\n",
      "iwfxha qcumqyd ldfjzaet seqmch diovsci emsyqlceex pcvwkgsil vlikgshl rxxvm ekmns\n",
      "<|finderéplique|>\n",
      "\n"
     ]
    }
   ],
   "source": [
    "new_pref = ''.join([rand_replique() for _ in range(7)])\n",
    "print(new_pref)\n",
    "print('-'*40)\n",
    "new_pref = new_pref[-512:]\n",
    "truncate_ind = new_pref.find('<|débutderéplique|>')\n",
    "print('new prefix:')\n",
    "print(new_pref[truncate_ind:])\n",
    "print()\n",
    "print('-'*40)"
   ]
  },
  {
   "cell_type": "markdown",
   "metadata": {},
   "source": [
    "---\n",
    "\n",
    "## Checking truncation mechanism."
   ]
  },
  {
   "cell_type": "code",
   "execution_count": 107,
   "metadata": {},
   "outputs": [
    {
     "name": "stdout",
     "output_type": "stream",
     "text": [
      "['Bla bla, dit-ce, \\nVous avez peur de me votre fils. ']\n"
     ]
    }
   ],
   "source": [
    "l = gpt2.generate(sess, \n",
    "                  prefix='Bla bla, dit-ce, ',\n",
    "                  truncate='. ',\n",
    "                  length=50,\n",
    "                  return_as_list=True\n",
    "                  )\n",
    "print(l)"
   ]
  },
  {
   "cell_type": "markdown",
   "metadata": {},
   "source": [
    "---\n",
    "\n",
    "## Attempting to time things"
   ]
  },
  {
   "cell_type": "code",
   "execution_count": 4,
   "metadata": {},
   "outputs": [
    {
     "data": {
      "text/plain": [
       "2325"
      ]
     },
     "execution_count": 4,
     "metadata": {},
     "output_type": "execute_result"
    }
   ],
   "source": [
    "pref = \"\"\"Reconnaissons ici la voie par où advient le nécessaire : en bonne logique\n",
    "s'entend, celle qui ordonne ses modes de procéder d'où elle accède, soit cet\n",
    "impossible, modique sans doute quoique dès lors incommode, que pour qu'un dit\n",
    "soit vrai, encore faut-il qu'on le dise, que dire il y en ait.  En quoi la\n",
    "grammaire mesure déjà force et faiblesse des logiques qui s'en isolent, pour,\n",
    "de son subjonctif, les cliver, et s'indique en concentrer la puissance, de\n",
    "toutes les frayer.  Car, j'y reviens une fois de plus,\\\" il n'y a pas de\n",
    "métalangage \\\" tel qu'aucune des logiques, à s'intituler de la proposition,\n",
    "puisse s'en faire béquille (qu'à chacune reste son imbécillité), et si l'on\n",
    "croit le retrouver dans ma référence, plus haut, au discours, je le réfute de\n",
    "ce que la phrase qui a l'air là de faire objet pour la seconde, ne s'en\n",
    "applique pas moins significativement à celle-ci.\n",
    "Car cette seconde, qu'on la dise reste oublié derrière ce qu'elle dit. Et ceci\n",
    "de façon d'autant plus frappante qu'assertive, elle sans rémission au point\n",
    "d'être tautologique en les preuves qu'elle avance, – à dénoncer dans la\n",
    "première son semblant, elle pose son propre dire comme inexistant, puisqu'en\n",
    "contestant celle-ci comme dit de vérité, c'est l'existence qu'elle fait\n",
    "répondre de son dire, ceci non pas de faire ce dire exister puisque seulement\n",
    "elle le dénomme, mais d'en nier la vérité – sans le dire.  A étendre ce procès,\n",
    "naît la formule, mienne, qu'il n'y a pas d'universelle qui ne doive se contenir\n",
    "d'une existence qui la nie. Tel le stéréotype que tout homme soit mortel, ne\n",
    "s'énonce pas de nulle part. La logique qui le date, n'est que celle d'une\n",
    "philosophie qui feint cette nullibiquité, ce pour faire alibi à ce que je\n",
    "dénomme discours du maître.  Or ce n'est pas de ce seul discours, mais de la\n",
    "place ou font tour d'autres (d'autres discours), celle que je désigne du\n",
    "semblant, qu'un dire prend son sens.  Cette place n'est pas pour tous, mais\n",
    "elle leur ex-sise, et c'est de là que s'hommologue que tous soient mortels. Ils\n",
    "ne peuvent que l'être tous, parce qu'à la mort on les délègue de cette place,\n",
    "tous il faut bien, puisque c'est là qu'on veille à la merveille du bien de\n",
    "tous. Et particulièrement quand ce qui y veille y fait semblant du signifiant\n",
    "maître ou du savoir. D'où la ritournelle de la logique philosophique.\n",
    "\"\"\" \n",
    "len(pref)"
   ]
  },
  {
   "cell_type": "code",
   "execution_count": 14,
   "metadata": {},
   "outputs": [
    {
     "name": "stdout",
     "output_type": "stream",
     "text": [
      "Reconnaissons ici la voie par où advient le nécessaire : en bonne logique\n",
      "s'entend, celle qui ordonne ses modes de procéder d'où elle accède, soit cet\n",
      "impossible, modique sans doute quoique dès lors incommode, que pour qu'un dit\n",
      "soit vrai, encore faut-il qu'on le dise, que dire il y en ait.  En quoi la\n",
      "grammaire mesure déjà force et faiblesse des logiques qui s'en isolent, pour,\n",
      "de son subjonctif, les cliver, et s'indique en concentrer la puissance, de\n",
      "toutes les frayer.  Car, j'y reviens une fois de plus,\" il n'y a pas de\n",
      "métalangage \" tel qu'aucune des logiques, à s'intituler de la proposition,\n",
      "puisse s'en faire béquille (qu'à chacune reste son imbécillité), et si l'on\n",
      "croit le retrouver dans ma référence, plus haut, au discours, je le réfute de\n",
      "ce que la phrase qui a l'air là de faire objet pour la seconde, ne s'en\n",
      "applique pas moins significativement à celle-ci.\n",
      "Car cette seconde, qu'on la dise reste oublié derrière ce qu'elle dit. Et ceci\n",
      "de façon d'autant plus frappante qu'assertive, elle sans rémission au point\n",
      "d'être tautologique en les preuves qu'elle avance, – à dénoncer dans la\n",
      "première son semblant, elle pose son propre dire comme inexistant, puisqu'en\n",
      "contestant celle-ci comme dit de vérité, c'est l'existence qu'elle fait\n",
      "répondre de son dire, ceci non pas de faire ce dire exister puisque seulement\n",
      "elle le dénomme, mais d'en nier la vérité – sans le dire.  A étendre ce procès,\n",
      "naît la formule, mienne, qu'il n'y a pas d'universelle qui ne doive se contenir\n",
      "d'une existence qui la nie. Tel le stéréotype que tout homme soit mortel, ne\n",
      "s'énonce pas de nulle part. La logique qui le date, n'est que celle d'une\n",
      "philosophie qui feint cette nullibiquité, ce pour faire alibi à ce que je\n",
      "dénomme discours du maître.  Or ce n'est pas de ce seul discours, mais de la\n",
      "place ou font tour d'autres (d'autres discours), celle que je désigne du\n",
      "semblant, qu'un dire prend son sens.  Cette place n'est pas pour tous, mais\n",
      "elle leur ex-sise, et c'est de là que s'hommologue que tous soient mortels. Ils\n",
      "ne peuvent que l'être tous, parce qu'à la mort on les délègue de cette place,\n",
      "tous il faut bien, puisque c'est là qu'on veille à la merveille du bien de\n",
      "tous. Et particulièrement quand ce qui y veille y fait semblant du signifiant\n",
      "maître ou du savoir. D'où la ritournelle de la logique philosophique.\n",
      "Au reste, c'est la droit de croire que l'une ou l'autre n'est pas plus\n",
      "comme le mien.                                                                                                                  \n",
      "CPU times: user 1min 20s, sys: 1.66 s, total: 1min 22s\n",
      "Wall time: 37 s\n"
     ]
    }
   ],
   "source": [
    "%%time\n",
    "\n",
    "gpt2.generate(sess, \n",
    "              prefix=pref,\n",
    "              length=150)"
   ]
  },
  {
   "cell_type": "code",
   "execution_count": 21,
   "metadata": {},
   "outputs": [
    {
     "name": "stdout",
     "output_type": "stream",
     "text": [
      "Reconnaissons ici la voie par où advient le nécessaire : \n",
      "Et mon coeur en sortant de pauvreté, \n",
      "Me donne à son bien le temps de la voir. \n",
      "<|finderéplique|>\n",
      "ARISTIDE.\n",
      "<|débutderéplique|>\n",
      "Puisque ce secret l'emporte, et mon coeur en peine, \n",
      "Je sais ce que j'ai d'un père en ces lieux. \n",
      "<|finderéplique|>\n",
      "CLÉONTE.\n",
      "<|débutderéplique|>\n",
      "Qu'est-ce que c'est que ce secret ? \n",
      "<|finderé\n",
      "CPU times: user 31.6 s, sys: 564 ms, total: 32.1 s\n",
      "Wall time: 21.9 s\n"
     ]
    }
   ],
   "source": [
    "%%time\n",
    "\n",
    "pr = pref[:57]\n",
    "gpt2.generate(sess, \n",
    "              prefix=pr,\n",
    "              length=150)"
   ]
  },
  {
   "cell_type": "markdown",
   "metadata": {},
   "source": [
    "---\n",
    "\n",
    "## With a loop?"
   ]
  },
  {
   "cell_type": "code",
   "execution_count": null,
   "metadata": {},
   "outputs": [
    {
     "name": "stdout",
     "output_type": "stream",
     "text": [
      "b'Ah, encore une fois, il e\\xc3\\xbbt'\n",
      "12.039758682250977\n",
      "----------------------------------------\n",
      "b'Ah, encore une fois, il e\\xc3\\xbbt \\xc3\\xa9t\\xc3\\xa9 impossible de'\n",
      "12.000826120376587\n",
      "----------------------------------------\n",
      "b'Ah, encore une fois, il e\\xc3\\xbbt \\xc3\\xa9t\\xc3\\xa9 impossible de faire\\nune dern'\n",
      "12.680980205535889\n",
      "----------------------------------------\n",
      "b'Ah, encore une fois, il e\\xc3\\xbbt \\xc3\\xa9t\\xc3\\xa9 impossible de faire\\nune derni\\xc3\\xa8re revanche.'\n",
      "12.400499820709229\n",
      "----------------------------------------\n",
      "b'Ah, encore une fois, il e\\xc3\\xbbt \\xc3\\xa9t\\xc3\\xa9 impossible de faire\\nune derni\\xc3\\xa8re revanche.\\n\\n--Ah!'\n",
      "12.267855405807495\n",
      "----------------------------------------\n",
      "b'Ah, encore une fois, il e\\xc3\\xbbt \\xc3\\xa9t\\xc3\\xa9 impossible de faire\\nune derni\\xc3\\xa8re revanche.\\n\\n--Ah! combien de fois'\n",
      "15.099350690841675\n",
      "----------------------------------------\n",
      "b'Ah, encore une fois, il e\\xc3\\xbbt \\xc3\\xa9t\\xc3\\xa9 impossible de faire\\nune derni\\xc3\\xa8re revanche.\\n\\n--Ah! combien de fois il e\\xc3\\xbbt '\n",
      "27.92886185646057\n",
      "----------------------------------------\n",
      "b'Ah, encore une fois, il e\\xc3\\xbbt \\xc3\\xa9t\\xc3\\xa9 impossible de faire\\nune derni\\xc3\\xa8re revanche.\\n\\n--Ah! combien de fois il e\\xc3\\xbbt \\xc3\\xa9t\\xc3\\xa9 impossible de faire'\n",
      "21.447267055511475\n",
      "----------------------------------------\n",
      "b'Ah, encore une fois, il e\\xc3\\xbbt \\xc3\\xa9t\\xc3\\xa9 impossible de faire\\nune derni\\xc3\\xa8re revanche.\\n\\n--Ah! combien de fois il e\\xc3\\xbbt \\xc3\\xa9t\\xc3\\xa9 impossible de faire une derni\\xc3\\xa8re'\n",
      "13.743529796600342\n",
      "----------------------------------------\n",
      "b'Ah, encore une fois, il e\\xc3\\xbbt \\xc3\\xa9t\\xc3\\xa9 impossible de faire\\nune derni\\xc3\\xa8re revanche.\\n\\n--Ah! combien de fois il e\\xc3\\xbbt \\xc3\\xa9t\\xc3\\xa9 impossible de faire une derni\\xc3\\xa8re\\nrevanche, d'\n",
      "13.988922595977783\n",
      "----------------------------------------\n",
      "b'Ah, encore une fois, il e\\xc3\\xbbt \\xc3\\xa9t\\xc3\\xa9 impossible de faire\\nune derni\\xc3\\xa8re revanche.\\n\\n--Ah! combien de fois il e\\xc3\\xbbt \\xc3\\xa9t\\xc3\\xa9 impossible de faire une derni\\xc3\\xa8re\\nrevanche, dit M. Pitt.'\n",
      "15.23729658126831\n",
      "----------------------------------------\n",
      "b'Ah, encore une fois, il e\\xc3\\xbbt \\xc3\\xa9t\\xc3\\xa9 impossible de faire\\nune derni\\xc3\\xa8re revanche.\\n\\n--Ah! combien de fois il e\\xc3\\xbbt \\xc3\\xa9t\\xc3\\xa9 impossible de faire une derni\\xc3\\xa8re\\nrevanche, dit M. Pitt.\\n\\n--Et'\n",
      "16.12130832672119\n",
      "----------------------------------------\n",
      "b'Ah, encore une fois, il e\\xc3\\xbbt \\xc3\\xa9t\\xc3\\xa9 impossible de faire\\nune derni\\xc3\\xa8re revanche.\\n\\n--Ah! combien de fois il e\\xc3\\xbbt \\xc3\\xa9t\\xc3\\xa9 impossible de faire une derni\\xc3\\xa8re\\nrevanche, dit M. Pitt.\\n\\n--Et enfin, reprit'\n",
      "26.206153869628906\n",
      "----------------------------------------\n",
      "b'Ah, encore une fois, il e\\xc3\\xbbt \\xc3\\xa9t\\xc3\\xa9 impossible de faire\\nune derni\\xc3\\xa8re revanche.\\n\\n--Ah! combien de fois il e\\xc3\\xbbt \\xc3\\xa9t\\xc3\\xa9 impossible de faire une derni\\xc3\\xa8re\\nrevanche, dit M. Pitt.\\n\\n--Et enfin, reprit M. Pitt, j'\n",
      "30.598885536193848\n",
      "----------------------------------------\n",
      "b\"Ah, encore une fois, il e\\xc3\\xbbt \\xc3\\xa9t\\xc3\\xa9 impossible de faire\\nune derni\\xc3\\xa8re revanche.\\n\\n--Ah! combien de fois il e\\xc3\\xbbt \\xc3\\xa9t\\xc3\\xa9 impossible de faire une derni\\xc3\\xa8re\\nrevanche, dit M. Pitt.\\n\\n--Et enfin, reprit M. Pitt, j'\\xc3\\xa9tais d\\xc3\\xa9\"\n",
      "16.161637783050537\n",
      "----------------------------------------\n",
      "b\"Ah, encore une fois, il e\\xc3\\xbbt \\xc3\\xa9t\\xc3\\xa9 impossible de faire\\nune derni\\xc3\\xa8re revanche.\\n\\n--Ah! combien de fois il e\\xc3\\xbbt \\xc3\\xa9t\\xc3\\xa9 impossible de faire une derni\\xc3\\xa8re\\nrevanche, dit M. Pitt.\\n\\n--Et enfin, reprit M. Pitt, j'\\xc3\\xa9tais d\\xc3\\xa9j\\xc3\\xa0 pr\\xc3\\xa8s\"\n",
      "16.243597984313965\n",
      "----------------------------------------\n",
      "b\"Ah, encore une fois, il e\\xc3\\xbbt \\xc3\\xa9t\\xc3\\xa9 impossible de faire\\nune derni\\xc3\\xa8re revanche.\\n\\n--Ah! combien de fois il e\\xc3\\xbbt \\xc3\\xa9t\\xc3\\xa9 impossible de faire une derni\\xc3\\xa8re\\nrevanche, dit M. Pitt.\\n\\n--Et enfin, reprit M. Pitt, j'\\xc3\\xa9tais d\\xc3\\xa9j\\xc3\\xa0 pr\\xc3\\xa8s de vous.\\n\"\n",
      "16.684536457061768\n",
      "----------------------------------------\n",
      "b\"Ah, encore une fois, il e\\xc3\\xbbt \\xc3\\xa9t\\xc3\\xa9 impossible de faire\\nune derni\\xc3\\xa8re revanche.\\n\\n--Ah! combien de fois il e\\xc3\\xbbt \\xc3\\xa9t\\xc3\\xa9 impossible de faire une derni\\xc3\\xa8re\\nrevanche, dit M. Pitt.\\n\\n--Et enfin, reprit M. Pitt, j'\\xc3\\xa9tais d\\xc3\\xa9j\\xc3\\xa0 pr\\xc3\\xa8s de vous.\\n\\n--Ce fut\"\n",
      "17.985142469406128\n",
      "----------------------------------------\n",
      "b\"Ah, encore une fois, il e\\xc3\\xbbt \\xc3\\xa9t\\xc3\\xa9 impossible de faire\\nune derni\\xc3\\xa8re revanche.\\n\\n--Ah! combien de fois il e\\xc3\\xbbt \\xc3\\xa9t\\xc3\\xa9 impossible de faire une derni\\xc3\\xa8re\\nrevanche, dit M. Pitt.\\n\\n--Et enfin, reprit M. Pitt, j'\\xc3\\xa9tais d\\xc3\\xa9j\\xc3\\xa0 pr\\xc3\\xa8s de vous.\\n\\n--Ce fut l\\xc3\\xa0 que vous\"\n",
      "28.889012336730957\n",
      "----------------------------------------\n",
      "b\"Ah, encore une fois, il e\\xc3\\xbbt \\xc3\\xa9t\\xc3\\xa9 impossible de faire\\nune derni\\xc3\\xa8re revanche.\\n\\n--Ah! combien de fois il e\\xc3\\xbbt \\xc3\\xa9t\\xc3\\xa9 impossible de faire une derni\\xc3\\xa8re\\nrevanche, dit M. Pitt.\\n\\n--Et enfin, reprit M. Pitt, j'\\xc3\\xa9tais d\\xc3\\xa9j\\xc3\\xa0 pr\\xc3\\xa8s de vous.\\n\\n--Ce fut l\\xc3\\xa0 que vous m'accordez\"\n",
      "33.38634181022644\n",
      "----------------------------------------\n",
      "b\"Ah, encore une fois, il e\\xc3\\xbbt \\xc3\\xa9t\\xc3\\xa9 impossible de faire\\nune derni\\xc3\\xa8re revanche.\\n\\n--Ah! combien de fois il e\\xc3\\xbbt \\xc3\\xa9t\\xc3\\xa9 impossible de faire une derni\\xc3\\xa8re\\nrevanche, dit M. Pitt.\\n\\n--Et enfin, reprit M. Pitt, j'\\xc3\\xa9tais d\\xc3\\xa9j\\xc3\\xa0 pr\\xc3\\xa8s de vous.\\n\\n--Ce fut l\\xc3\\xa0 que vous m'accordez une revanche.\\n\"\n",
      "26.325101852416992\n",
      "----------------------------------------\n",
      "b\"Ah, encore une fois, il e\\xc3\\xbbt \\xc3\\xa9t\\xc3\\xa9 impossible de faire\\nune derni\\xc3\\xa8re revanche.\\n\\n--Ah! combien de fois il e\\xc3\\xbbt \\xc3\\xa9t\\xc3\\xa9 impossible de faire une derni\\xc3\\xa8re\\nrevanche, dit M. Pitt.\\n\\n--Et enfin, reprit M. Pitt, j'\\xc3\\xa9tais d\\xc3\\xa9j\\xc3\\xa0 pr\\xc3\\xa8s de vous.\\n\\n--Ce fut l\\xc3\\xa0 que vous m'accordez une revanche.\\n\\n--Ah! l\"\n",
      "19.74982261657715\n",
      "----------------------------------------\n",
      "b\"Ah, encore une fois, il e\\xc3\\xbbt \\xc3\\xa9t\\xc3\\xa9 impossible de faire\\nune derni\\xc3\\xa8re revanche.\\n\\n--Ah! combien de fois il e\\xc3\\xbbt \\xc3\\xa9t\\xc3\\xa9 impossible de faire une derni\\xc3\\xa8re\\nrevanche, dit M. Pitt.\\n\\n--Et enfin, reprit M. Pitt, j'\\xc3\\xa9tais d\\xc3\\xa9j\\xc3\\xa0 pr\\xc3\\xa8s de vous.\\n\\n--Ce fut l\\xc3\\xa0 que vous m'accordez une revanche.\\n\\n--Ah! l'on disait que\"\n",
      "19.844552755355835\n",
      "----------------------------------------\n",
      "b\"Ah, encore une fois, il e\\xc3\\xbbt \\xc3\\xa9t\\xc3\\xa9 impossible de faire\\nune derni\\xc3\\xa8re revanche.\\n\\n--Ah! combien de fois il e\\xc3\\xbbt \\xc3\\xa9t\\xc3\\xa9 impossible de faire une derni\\xc3\\xa8re\\nrevanche, dit M. Pitt.\\n\\n--Et enfin, reprit M. Pitt, j'\\xc3\\xa9tais d\\xc3\\xa9j\\xc3\\xa0 pr\\xc3\\xa8s de vous.\\n\\n--Ce fut l\\xc3\\xa0 que vous m'accordez une revanche.\\n\\n--Ah! l'on disait que je ne voulais\"\n",
      "30.729983806610107\n",
      "----------------------------------------\n",
      "b\"Ah, encore une fois, il e\\xc3\\xbbt \\xc3\\xa9t\\xc3\\xa9 impossible de faire\\nune derni\\xc3\\xa8re revanche.\\n\\n--Ah! combien de fois il e\\xc3\\xbbt \\xc3\\xa9t\\xc3\\xa9 impossible de faire une derni\\xc3\\xa8re\\nrevanche, dit M. Pitt.\\n\\n--Et enfin, reprit M. Pitt, j'\\xc3\\xa9tais d\\xc3\\xa9j\\xc3\\xa0 pr\\xc3\\xa8s de vous.\\n\\n--Ce fut l\\xc3\\xa0 que vous m'accordez une revanche.\\n\\n--Ah! l'on disait que je ne voulais pas, dit M\"\n",
      "38.366164684295654\n",
      "----------------------------------------\n",
      "b\"Ah, encore une fois, il e\\xc3\\xbbt \\xc3\\xa9t\\xc3\\xa9 impossible de faire\\nune derni\\xc3\\xa8re revanche.\\n\\n--Ah! combien de fois il e\\xc3\\xbbt \\xc3\\xa9t\\xc3\\xa9 impossible de faire une derni\\xc3\\xa8re\\nrevanche, dit M. Pitt.\\n\\n--Et enfin, reprit M. Pitt, j'\\xc3\\xa9tais d\\xc3\\xa9j\\xc3\\xa0 pr\\xc3\\xa8s de vous.\\n\\n--Ce fut l\\xc3\\xa0 que vous m'accordez une revanche.\\n\\n--Ah! l'on disait que je ne voulais pas, dit M. Pitt.\\n\\n\"\n",
      "24.434271335601807\n",
      "----------------------------------------\n",
      "b\"Ah, encore une fois, il e\\xc3\\xbbt \\xc3\\xa9t\\xc3\\xa9 impossible de faire\\nune derni\\xc3\\xa8re revanche.\\n\\n--Ah! combien de fois il e\\xc3\\xbbt \\xc3\\xa9t\\xc3\\xa9 impossible de faire une derni\\xc3\\xa8re\\nrevanche, dit M. Pitt.\\n\\n--Et enfin, reprit M. Pitt, j'\\xc3\\xa9tais d\\xc3\\xa9j\\xc3\\xa0 pr\\xc3\\xa8s de vous.\\n\\n--Ce fut l\\xc3\\xa0 que vous m'accordez une revanche.\\n\\n--Ah! l'on disait que je ne voulais pas, dit M. Pitt.\\n\\n     \"\n",
      "18.986308097839355\n",
      "----------------------------------------\n",
      "b\"Ah, encore une fois, il e\\xc3\\xbbt \\xc3\\xa9t\\xc3\\xa9 impossible de faire\\nune derni\\xc3\\xa8re revanche.\\n\\n--Ah! combien de fois il e\\xc3\\xbbt \\xc3\\xa9t\\xc3\\xa9 impossible de faire une derni\\xc3\\xa8re\\nrevanche, dit M. Pitt.\\n\\n--Et enfin, reprit M. Pitt, j'\\xc3\\xa9tais d\\xc3\\xa9j\\xc3\\xa0 pr\\xc3\\xa8s de vous.\\n\\n--Ce fut l\\xc3\\xa0 que vous m'accordez une revanche.\\n\\n--Ah! l'on disait que je ne voulais pas, dit M. Pitt.\\n\\n          \"\n",
      "19.032561779022217\n",
      "----------------------------------------\n",
      "b\"Ah, encore une fois, il e\\xc3\\xbbt \\xc3\\xa9t\\xc3\\xa9 impossible de faire\\nune derni\\xc3\\xa8re revanche.\\n\\n--Ah! combien de fois il e\\xc3\\xbbt \\xc3\\xa9t\\xc3\\xa9 impossible de faire une derni\\xc3\\xa8re\\nrevanche, dit M. Pitt.\\n\\n--Et enfin, reprit M. Pitt, j'\\xc3\\xa9tais d\\xc3\\xa9j\\xc3\\xa0 pr\\xc3\\xa8s de vous.\\n\\n--Ce fut l\\xc3\\xa0 que vous m'accordez une revanche.\\n\\n--Ah! l'on disait que je ne voulais pas, dit M. Pitt.\\n\\n               \"\n",
      "19.603419065475464\n",
      "----------------------------------------\n",
      "b\"Ah, encore une fois, il e\\xc3\\xbbt \\xc3\\xa9t\\xc3\\xa9 impossible de faire\\nune derni\\xc3\\xa8re revanche.\\n\\n--Ah! combien de fois il e\\xc3\\xbbt \\xc3\\xa9t\\xc3\\xa9 impossible de faire une derni\\xc3\\xa8re\\nrevanche, dit M. Pitt.\\n\\n--Et enfin, reprit M. Pitt, j'\\xc3\\xa9tais d\\xc3\\xa9j\\xc3\\xa0 pr\\xc3\\xa8s de vous.\\n\\n--Ce fut l\\xc3\\xa0 que vous m'accordez une revanche.\\n\\n--Ah! l'on disait que je ne voulais pas, dit M. Pitt.\\n\\n                    \"\n",
      "32.38067317008972\n",
      "----------------------------------------\n",
      "b\"Ah, encore une fois, il e\\xc3\\xbbt \\xc3\\xa9t\\xc3\\xa9 impossible de faire\\nune derni\\xc3\\xa8re revanche.\\n\\n--Ah! combien de fois il e\\xc3\\xbbt \\xc3\\xa9t\\xc3\\xa9 impossible de faire une derni\\xc3\\xa8re\\nrevanche, dit M. Pitt.\\n\\n--Et enfin, reprit M. Pitt, j'\\xc3\\xa9tais d\\xc3\\xa9j\\xc3\\xa0 pr\\xc3\\xa8s de vous.\\n\\n--Ce fut l\\xc3\\xa0 que vous m'accordez une revanche.\\n\\n--Ah! l'on disait que je ne voulais pas, dit M. Pitt.\\n\\n                         \"\n",
      "37.92688322067261\n",
      "----------------------------------------\n",
      "b\"Ah, encore une fois, il e\\xc3\\xbbt \\xc3\\xa9t\\xc3\\xa9 impossible de faire\\nune derni\\xc3\\xa8re revanche.\\n\\n--Ah! combien de fois il e\\xc3\\xbbt \\xc3\\xa9t\\xc3\\xa9 impossible de faire une derni\\xc3\\xa8re\\nrevanche, dit M. Pitt.\\n\\n--Et enfin, reprit M. Pitt, j'\\xc3\\xa9tais d\\xc3\\xa9j\\xc3\\xa0 pr\\xc3\\xa8s de vous.\\n\\n--Ce fut l\\xc3\\xa0 que vous m'accordez une revanche.\\n\\n--Ah! l'on disait que je ne voulais pas, dit M. Pitt.\\n\\n                              \"\n",
      "33.28792595863342\n",
      "----------------------------------------\n",
      "b\"Ah, encore une fois, il e\\xc3\\xbbt \\xc3\\xa9t\\xc3\\xa9 impossible de faire\\nune derni\\xc3\\xa8re revanche.\\n\\n--Ah! combien de fois il e\\xc3\\xbbt \\xc3\\xa9t\\xc3\\xa9 impossible de faire une derni\\xc3\\xa8re\\nrevanche, dit M. Pitt.\\n\\n--Et enfin, reprit M. Pitt, j'\\xc3\\xa9tais d\\xc3\\xa9j\\xc3\\xa0 pr\\xc3\\xa8s de vous.\\n\\n--Ce fut l\\xc3\\xa0 que vous m'accordez une revanche.\\n\\n--Ah! l'on disait que je ne voulais pas, dit M. Pitt.\\n\\n                                   \"\n",
      "20.137205600738525\n",
      "----------------------------------------\n",
      "b\"Ah, encore une fois, il e\\xc3\\xbbt \\xc3\\xa9t\\xc3\\xa9 impossible de faire\\nune derni\\xc3\\xa8re revanche.\\n\\n--Ah! combien de fois il e\\xc3\\xbbt \\xc3\\xa9t\\xc3\\xa9 impossible de faire une derni\\xc3\\xa8re\\nrevanche, dit M. Pitt.\\n\\n--Et enfin, reprit M. Pitt, j'\\xc3\\xa9tais d\\xc3\\xa9j\\xc3\\xa0 pr\\xc3\\xa8s de vous.\\n\\n--Ce fut l\\xc3\\xa0 que vous m'accordez une revanche.\\n\\n--Ah! l'on disait que je ne voulais pas, dit M. Pitt.\\n\\n                                        \"\n",
      "24.262648344039917\n",
      "----------------------------------------\n",
      "b\"Ah, encore une fois, il e\\xc3\\xbbt \\xc3\\xa9t\\xc3\\xa9 impossible de faire\\nune derni\\xc3\\xa8re revanche.\\n\\n--Ah! combien de fois il e\\xc3\\xbbt \\xc3\\xa9t\\xc3\\xa9 impossible de faire une derni\\xc3\\xa8re\\nrevanche, dit M. Pitt.\\n\\n--Et enfin, reprit M. Pitt, j'\\xc3\\xa9tais d\\xc3\\xa9j\\xc3\\xa0 pr\\xc3\\xa8s de vous.\\n\\n--Ce fut l\\xc3\\xa0 que vous m'accordez une revanche.\\n\\n--Ah! l'on disait que je ne voulais pas, dit M. Pitt.\\n\\n                                             \"\n",
      "36.93685746192932\n",
      "----------------------------------------\n",
      "b\"Ah, encore une fois, il e\\xc3\\xbbt \\xc3\\xa9t\\xc3\\xa9 impossible de faire\\nune derni\\xc3\\xa8re revanche.\\n\\n--Ah! combien de fois il e\\xc3\\xbbt \\xc3\\xa9t\\xc3\\xa9 impossible de faire une derni\\xc3\\xa8re\\nrevanche, dit M. Pitt.\\n\\n--Et enfin, reprit M. Pitt, j'\\xc3\\xa9tais d\\xc3\\xa9j\\xc3\\xa0 pr\\xc3\\xa8s de vous.\\n\\n--Ce fut l\\xc3\\xa0 que vous m'accordez une revanche.\\n\\n--Ah! l'on disait que je ne voulais pas, dit M. Pitt.\\n\\n                                                  \"\n",
      "28.359058141708374\n",
      "----------------------------------------\n",
      "b\"Ah, encore une fois, il e\\xc3\\xbbt \\xc3\\xa9t\\xc3\\xa9 impossible de faire\\nune derni\\xc3\\xa8re revanche.\\n\\n--Ah! combien de fois il e\\xc3\\xbbt \\xc3\\xa9t\\xc3\\xa9 impossible de faire une derni\\xc3\\xa8re\\nrevanche, dit M. Pitt.\\n\\n--Et enfin, reprit M. Pitt, j'\\xc3\\xa9tais d\\xc3\\xa9j\\xc3\\xa0 pr\\xc3\\xa8s de vous.\\n\\n--Ce fut l\\xc3\\xa0 que vous m'accordez une revanche.\\n\\n--Ah! l'on disait que je ne voulais pas, dit M. Pitt.\\n\\n                                                       \"\n",
      "28.635446071624756\n",
      "----------------------------------------\n",
      "b\"Ah, encore une fois, il e\\xc3\\xbbt \\xc3\\xa9t\\xc3\\xa9 impossible de faire\\nune derni\\xc3\\xa8re revanche.\\n\\n--Ah! combien de fois il e\\xc3\\xbbt \\xc3\\xa9t\\xc3\\xa9 impossible de faire une derni\\xc3\\xa8re\\nrevanche, dit M. Pitt.\\n\\n--Et enfin, reprit M. Pitt, j'\\xc3\\xa9tais d\\xc3\\xa9j\\xc3\\xa0 pr\\xc3\\xa8s de vous.\\n\\n--Ce fut l\\xc3\\xa0 que vous m'accordez une revanche.\\n\\n--Ah! l'on disait que je ne voulais pas, dit M. Pitt.\\n\\n                                                        *\\n   \"\n",
      "25.191788911819458\n",
      "----------------------------------------\n",
      "b\"Ah, encore une fois, il e\\xc3\\xbbt \\xc3\\xa9t\\xc3\\xa9 impossible de faire\\nune derni\\xc3\\xa8re revanche.\\n\\n--Ah! combien de fois il e\\xc3\\xbbt \\xc3\\xa9t\\xc3\\xa9 impossible de faire une derni\\xc3\\xa8re\\nrevanche, dit M. Pitt.\\n\\n--Et enfin, reprit M. Pitt, j'\\xc3\\xa9tais d\\xc3\\xa9j\\xc3\\xa0 pr\\xc3\\xa8s de vous.\\n\\n--Ce fut l\\xc3\\xa0 que vous m'accordez une revanche.\\n\\n--Ah! l'on disait que je ne voulais pas, dit M. Pitt.\\n\\n                                                        *\\n        \"\n",
      "40.1607084274292\n",
      "----------------------------------------\n",
      "b\"Ah, encore une fois, il e\\xc3\\xbbt \\xc3\\xa9t\\xc3\\xa9 impossible de faire\\nune derni\\xc3\\xa8re revanche.\\n\\n--Ah! combien de fois il e\\xc3\\xbbt \\xc3\\xa9t\\xc3\\xa9 impossible de faire une derni\\xc3\\xa8re\\nrevanche, dit M. Pitt.\\n\\n--Et enfin, reprit M. Pitt, j'\\xc3\\xa9tais d\\xc3\\xa9j\\xc3\\xa0 pr\\xc3\\xa8s de vous.\\n\\n--Ce fut l\\xc3\\xa0 que vous m'accordez une revanche.\\n\\n--Ah! l'on disait que je ne voulais pas, dit M. Pitt.\\n\\n                                                        *\\n             \"\n",
      "27.356515884399414\n",
      "----------------------------------------\n",
      "b\"Ah, encore une fois, il e\\xc3\\xbbt \\xc3\\xa9t\\xc3\\xa9 impossible de faire\\nune derni\\xc3\\xa8re revanche.\\n\\n--Ah! combien de fois il e\\xc3\\xbbt \\xc3\\xa9t\\xc3\\xa9 impossible de faire une derni\\xc3\\xa8re\\nrevanche, dit M. Pitt.\\n\\n--Et enfin, reprit M. Pitt, j'\\xc3\\xa9tais d\\xc3\\xa9j\\xc3\\xa0 pr\\xc3\\xa8s de vous.\\n\\n--Ce fut l\\xc3\\xa0 que vous m'accordez une revanche.\\n\\n--Ah! l'on disait que je ne voulais pas, dit M. Pitt.\\n\\n                                                        *\\n                  \"\n",
      "36.893455266952515\n",
      "----------------------------------------\n"
     ]
    }
   ],
   "source": [
    "txt = 'Ah, encore une fois'\n",
    "for _ in range(50):\n",
    "    t = time.time()\n",
    "    txt = gpt2.generate(sess, \n",
    "                         prefix=txt,\n",
    "                         length=5,\n",
    "                         return_as_list=True)[0]\n",
    "    print(len(txt), txt.encode('utf-8'))\n",
    "    print(time.time() - t)\n",
    "    print('-'*40)"
   ]
  },
  {
   "cell_type": "code",
   "execution_count": null,
   "metadata": {},
   "outputs": [],
   "source": [
    "gpt2.generate_gradual(sess,\n",
    "                      length=100)"
   ]
  }
 ],
 "metadata": {
  "kernelspec": {
   "display_name": "Python 3",
   "language": "python",
   "name": "python3"
  },
  "language_info": {
   "codemirror_mode": {
    "name": "ipython",
    "version": 3
   },
   "file_extension": ".py",
   "mimetype": "text/x-python",
   "name": "python",
   "nbconvert_exporter": "python",
   "pygments_lexer": "ipython3",
   "version": "3.7.3"
  }
 },
 "nbformat": 4,
 "nbformat_minor": 4
}
